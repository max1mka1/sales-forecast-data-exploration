{
 "cells": [
  {
   "cell_type": "markdown",
   "metadata": {
    "id": "W7DwVBXAWJGQ"
   },
   "source": [
    "# **Sales forecast data exploration**\n",
    "This dataset was a test task for building a sales forecast for the month (March 2020).\n",
    "We have historical data for 2 full years, as well as 1 quarter of 2020.\n",
    "The dataset was provided by \"Zolotoe Yabloko\" store and shows sales for two brands across three stores.\n",
    "\n",
    "**Content**\n",
    "\n",
    "There are 4 files in a dataset:\n",
    "\n",
    "* sales_train - sales for the period from 2018.01.01 to 2019.03.31\n",
    "* Items - this table contains common information on brands\n",
    "* stock - this file contains count of days with zero balance for items\n",
    "* test_submission - a sample of what the final file should look like.\n",
    "\n",
    "\n",
    "---\n",
    "\n",
    "\n",
    "**TODO**\n",
    "Firs, we shod look at the data inside and make some data explorations, visualizations and preprocessing for further usage for statistical or machine learning models for solving a forecasting task.\n",
    "The things we should do with data:\n",
    "* Carry out preprocessing of data (search for anomalies, removal / cut of outliers, etc.). Conduct time series analysis (graphical presentation, descriptive statistics).\n",
    "* Summarize the results of the cleaning, data preprocessing. Draw conclusions based on our analysis.\n",
    "* Feature engineering\n",
    "* Correlation Matrix\n",
    "* Converting categorical features\n",
    "\n",
    "**Tools**\n",
    "\n",
    "The next tools and libraries we will use:\n",
    "\n",
    "* Pandas\n",
    "* Numpy\n",
    "* Matplotlib\n",
    "* Seaborn\n",
    "\n",
    "These instruments and data analysis techniques were learned from the course \"Data Analysis with Python: Zero to Pandas\" (zerotopandas.com). \n",
    "From the course I've learned, where to search for data, how to load it, how to prepare and visualize it, using Numpy, Pandas and Matplotlib and Seaborn libraries."
   ]
  },
  {
   "cell_type": "markdown",
   "metadata": {
    "id": "er1FelEHWJGW"
   },
   "source": [
    "## Downloading the Dataset\n",
    "\n",
    "We will use our own dataset, loaded to Kaggle and set as public dataset for everyone could use it. "
   ]
  },
  {
   "cell_type": "markdown",
   "metadata": {
    "id": "8K-Z9E-5ZCrZ"
   },
   "source": [
    "First, we should download our kaggle.json file on a disk. After that, we shold execute next commands to replace kaggle.json to the right path. And it is also needed to open access to the folder.\n",
    "\n"
   ]
  },
  {
   "cell_type": "code",
   "execution_count": 2,
   "metadata": {
    "colab": {
     "base_uri": "https://localhost:8080/",
     "height": 94,
     "resources": {
      "http://localhost:8080/nbextensions/google.colab/files.js": {
       "data": "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",
       "headers": [
        [
         "content-type",
         "application/javascript"
        ]
       ],
       "ok": true,
       "status": 200,
       "status_text": "OK"
      }
     }
    },
    "executionInfo": {
     "elapsed": 21105,
     "status": "ok",
     "timestamp": 1602370629995,
     "user": {
      "displayName": "Max Instellar",
      "photoUrl": "https://lh3.googleusercontent.com/a-/AOh14GiCPJlQRSgcV7OFsy1H9bX_BkpffnABIIypSHvJ=s64",
      "userId": "13594059136253802604"
     },
     "user_tz": -300
    },
    "id": "WYkvgH4BZCD-",
    "outputId": "bbe145e1-9cf0-4e33-82e1-9a4059fc1283"
   },
   "outputs": [
    {
     "data": {
      "text/html": [
       "\n",
       "     <input type=\"file\" id=\"files-d1f50ac3-0a03-40ab-84cd-cdf51f894539\" name=\"files[]\" multiple disabled\n",
       "        style=\"border:none\" />\n",
       "     <output id=\"result-d1f50ac3-0a03-40ab-84cd-cdf51f894539\">\n",
       "      Upload widget is only available when the cell has been executed in the\n",
       "      current browser session. Please rerun this cell to enable.\n",
       "      </output>\n",
       "      <script src=\"/nbextensions/google.colab/files.js\"></script> "
      ],
      "text/plain": [
       "<IPython.core.display.HTML object>"
      ]
     },
     "metadata": {
      "tags": []
     },
     "output_type": "display_data"
    },
    {
     "name": "stdout",
     "output_type": "stream",
     "text": [
      "Saving kaggle.json to kaggle.json\n",
      "kaggle.json\n"
     ]
    }
   ],
   "source": [
    "from google.colab import files\n",
    "files.upload()  # upload your kaggle.json\n",
    "\n",
    "!pip install -q kaggle\n",
    "!mkdir -p ~/.kaggle\n",
    "!cp kaggle.json ~/.kaggle/\n",
    "!ls ~/.kaggle\n",
    "!chmod 600 /root/.kaggle/kaggle.json\n",
    "!rm -rf kaggle.json"
   ]
  },
  {
   "cell_type": "markdown",
   "metadata": {
    "id": "Z5aBnI-jWJGf"
   },
   "source": [
    "Let's begin by downloading the data, and listing the files within the dataset."
   ]
  },
  {
   "cell_type": "code",
   "execution_count": 3,
   "metadata": {
    "colab": {
     "base_uri": "https://localhost:8080/",
     "height": 86
    },
    "executionInfo": {
     "elapsed": 22500,
     "status": "ok",
     "timestamp": 1602370631397,
     "user": {
      "displayName": "Max Instellar",
      "photoUrl": "https://lh3.googleusercontent.com/a-/AOh14GiCPJlQRSgcV7OFsy1H9bX_BkpffnABIIypSHvJ=s64",
      "userId": "13594059136253802604"
     },
     "user_tz": -300
    },
    "id": "W_eQfOs6Hhts",
    "outputId": "24997223-25dd-494d-bfe2-ea8406953ea9"
   },
   "outputs": [
    {
     "name": "stdout",
     "output_type": "stream",
     "text": [
      "Downloading forecasting-task.zip to /content\n",
      "\r",
      "  0% 0.00/5.51M [00:00<?, ?B/s]\n",
      "\r",
      "100% 5.51M/5.51M [00:00<00:00, 50.9MB/s]\n",
      "items.csv  sales_train.xlsx  sample_data  stock.xlsx  test_submission.csv\n"
     ]
    }
   ],
   "source": [
    "# Download a dataset\n",
    "!kaggle datasets download -d maxinstellar/forecasting-task\n",
    "# Unzip data files from \n",
    "!unzip -q forecasting-task && rm -rf forecasting-task.zip\n",
    "!ls\n",
    "\n",
    "!rm -rf forecasting-task.zip\n",
    "# Make a directory for data files\n",
    "!mkdir sales-forecast-dataset"
   ]
  },
  {
   "cell_type": "markdown",
   "metadata": {
    "id": "tNbd--noHiff"
   },
   "source": [
    "# Remove all unzipped files into data folder:"
   ]
  },
  {
   "cell_type": "code",
   "execution_count": 4,
   "metadata": {
    "executionInfo": {
     "elapsed": 22989,
     "status": "ok",
     "timestamp": 1602370631892,
     "user": {
      "displayName": "Max Instellar",
      "photoUrl": "https://lh3.googleusercontent.com/a-/AOh14GiCPJlQRSgcV7OFsy1H9bX_BkpffnABIIypSHvJ=s64",
      "userId": "13594059136253802604"
     },
     "user_tz": -300
    },
    "id": "P82bYgBXZlje"
   },
   "outputs": [],
   "source": [
    "# Remove all unzipped files into data folder:\n",
    "!mv sales_train.xlsx /content/sales-forecast-dataset/sales_train.xlsx\n",
    "!mv items.csv /content/sales-forecast-dataset/items.csv\n",
    "!mv stock.xlsx /content/sales-forecast-dataset/stock.xlsx\n",
    "!mv test_submission.csv /content/sales-forecast-dataset/test_submission.csv"
   ]
  },
  {
   "cell_type": "code",
   "execution_count": 5,
   "metadata": {
    "executionInfo": {
     "elapsed": 22985,
     "status": "ok",
     "timestamp": 1602370631893,
     "user": {
      "displayName": "Max Instellar",
      "photoUrl": "https://lh3.googleusercontent.com/a-/AOh14GiCPJlQRSgcV7OFsy1H9bX_BkpffnABIIypSHvJ=s64",
      "userId": "13594059136253802604"
     },
     "user_tz": -300
    },
    "id": "o_BlpcAlWJGy"
   },
   "outputs": [],
   "source": [
    "# Data directory\n",
    "data_dir = './sales-forecast-dataset'"
   ]
  },
  {
   "cell_type": "code",
   "execution_count": 6,
   "metadata": {
    "colab": {
     "base_uri": "https://localhost:8080/",
     "height": 34
    },
    "executionInfo": {
     "elapsed": 22981,
     "status": "ok",
     "timestamp": 1602370631894,
     "user": {
      "displayName": "Max Instellar",
      "photoUrl": "https://lh3.googleusercontent.com/a-/AOh14GiCPJlQRSgcV7OFsy1H9bX_BkpffnABIIypSHvJ=s64",
      "userId": "13594059136253802604"
     },
     "user_tz": -300
    },
    "id": "PAumZhprWJG_",
    "outputId": "ab9b5073-040e-4425-9789-e2d0c68655e6"
   },
   "outputs": [
    {
     "data": {
      "text/plain": [
       "['items.csv', 'sales_train.xlsx', 'test_submission.csv', 'stock.xlsx']"
      ]
     },
     "execution_count": 6,
     "metadata": {
      "tags": []
     },
     "output_type": "execute_result"
    }
   ],
   "source": [
    "import os\n",
    "\n",
    "os.listdir(data_dir)"
   ]
  },
  {
   "cell_type": "markdown",
   "metadata": {
    "id": "iNWQ-cZkWJHE"
   },
   "source": [
    "Let us save and upload our work to Jovian before continuing."
   ]
  },
  {
   "cell_type": "code",
   "execution_count": 7,
   "metadata": {
    "executionInfo": {
     "elapsed": 22976,
     "status": "ok",
     "timestamp": 1602370631894,
     "user": {
      "displayName": "Max Instellar",
      "photoUrl": "https://lh3.googleusercontent.com/a-/AOh14GiCPJlQRSgcV7OFsy1H9bX_BkpffnABIIypSHvJ=s64",
      "userId": "13594059136253802604"
     },
     "user_tz": -300
    },
    "id": "sXvHA1OlWJHF"
   },
   "outputs": [],
   "source": [
    "project_name = \"sales-forecast-data-exploration\""
   ]
  },
  {
   "cell_type": "code",
   "execution_count": 8,
   "metadata": {
    "executionInfo": {
     "elapsed": 25379,
     "status": "ok",
     "timestamp": 1602370634301,
     "user": {
      "displayName": "Max Instellar",
      "photoUrl": "https://lh3.googleusercontent.com/a-/AOh14GiCPJlQRSgcV7OFsy1H9bX_BkpffnABIIypSHvJ=s64",
      "userId": "13594059136253802604"
     },
     "user_tz": -300
    },
    "id": "knordVF2WJHK"
   },
   "outputs": [],
   "source": [
    "!pip install jovian --upgrade -q"
   ]
  },
  {
   "cell_type": "code",
   "execution_count": 9,
   "metadata": {
    "executionInfo": {
     "elapsed": 25375,
     "status": "ok",
     "timestamp": 1602370634302,
     "user": {
      "displayName": "Max Instellar",
      "photoUrl": "https://lh3.googleusercontent.com/a-/AOh14GiCPJlQRSgcV7OFsy1H9bX_BkpffnABIIypSHvJ=s64",
      "userId": "13594059136253802604"
     },
     "user_tz": -300
    },
    "id": "CS3Yq0JsWJHO"
   },
   "outputs": [],
   "source": [
    "import jovian"
   ]
  },
  {
   "cell_type": "code",
   "execution_count": 10,
   "metadata": {
    "colab": {
     "base_uri": "https://localhost:8080/",
     "height": 139
    },
    "executionInfo": {
     "elapsed": 39449,
     "status": "ok",
     "timestamp": 1602370648381,
     "user": {
      "displayName": "Max Instellar",
      "photoUrl": "https://lh3.googleusercontent.com/a-/AOh14GiCPJlQRSgcV7OFsy1H9bX_BkpffnABIIypSHvJ=s64",
      "userId": "13594059136253802604"
     },
     "user_tz": -300
    },
    "id": "GdjM6jNCWJHT",
    "outputId": "9efe0e02-0a56-425f-d5f0-318e4bd5b26c"
   },
   "outputs": [
    {
     "name": "stdout",
     "output_type": "stream",
     "text": [
      "[jovian] Detected Colab notebook...\u001b[0m\n",
      "[jovian] Please enter your API key ( from https://jovian.ml/ ):\u001b[0m\n",
      "API KEY: ··········\n",
      "[jovian] Uploading colab notebook to Jovian...\u001b[0m\n",
      "[jovian] Capturing environment..\u001b[0m\n",
      "[jovian] Committed successfully! https://jovian.ml/max1mka1/sales-forecast-data-exploration\u001b[0m\n"
     ]
    },
    {
     "data": {
      "application/vnd.google.colaboratory.intrinsic+json": {
       "type": "string"
      },
      "text/plain": [
       "'https://jovian.ml/max1mka1/sales-forecast-data-exploration'"
      ]
     },
     "execution_count": 10,
     "metadata": {
      "tags": []
     },
     "output_type": "execute_result"
    }
   ],
   "source": [
    "jovian.commit(project=project_name)"
   ]
  },
  {
   "cell_type": "markdown",
   "metadata": {
    "id": "G6O52LRpWJHY"
   },
   "source": [
    "## Data Preparation and Cleaning\n",
    "\n",
    "Carry out preprocessing of data (search for anomalies, removal / cut of outliers, etc.). Conduct time series analysis (graphical presentation, descriptive statistics).\n",
    "Summarize the results of the cleaning, data preprocessing. Draw conclusions based on our analysis.\n"
   ]
  },
  {
   "cell_type": "code",
   "execution_count": 11,
   "metadata": {
    "executionInfo": {
     "elapsed": 39445,
     "status": "ok",
     "timestamp": 1602370648382,
     "user": {
      "displayName": "Max Instellar",
      "photoUrl": "https://lh3.googleusercontent.com/a-/AOh14GiCPJlQRSgcV7OFsy1H9bX_BkpffnABIIypSHvJ=s64",
      "userId": "13594059136253802604"
     },
     "user_tz": -300
    },
    "id": "ebrud38ETMzk"
   },
   "outputs": [],
   "source": [
    "# Import libraries for working with tables, arrays\n",
    "import pandas as pd\n",
    "import numpy as np"
   ]
  },
  {
   "cell_type": "code",
   "execution_count": 12,
   "metadata": {
    "executionInfo": {
     "elapsed": 51972,
     "status": "ok",
     "timestamp": 1602370660913,
     "user": {
      "displayName": "Max Instellar",
      "photoUrl": "https://lh3.googleusercontent.com/a-/AOh14GiCPJlQRSgcV7OFsy1H9bX_BkpffnABIIypSHvJ=s64",
      "userId": "13594059136253802604"
     },
     "user_tz": -300
    },
    "id": "5KoxFT_VWJHa"
   },
   "outputs": [],
   "source": [
    "# Name of the data file\n",
    "# of sales for the period from 2018.01.01 for 2019.03.31\n",
    "sales_train_df_name = os.path.join(data_dir, \"sales_train.xlsx\")\n",
    "sales_train_df = pd.read_excel(sales_train_df_name)\n",
    "\n",
    "# brand information\n",
    "items_df_name = os.path.join(data_dir, \"items.csv\")\n",
    "items_df = pd.read_csv(items_df_name, sep=';', encoding='cp1251')\n",
    "\n",
    "# table with the number of days in a month,\n",
    "# when inventory balances are missing (sold out)\n",
    "stock_df_name = os.path.join(data_dir, \"stock.xlsx\")\n",
    "stock_df = pd.read_excel(stock_df_name)\n",
    "\n",
    "# example of making a forecast - file \"test_submission.csv\"\n",
    "# Actually, we will not use this file - so, there is no sense\n",
    "# in loading it"
   ]
  },
  {
   "cell_type": "code",
   "execution_count": 13,
   "metadata": {
    "colab": {
     "base_uri": "https://localhost:8080/",
     "height": 223
    },
    "executionInfo": {
     "elapsed": 51972,
     "status": "ok",
     "timestamp": 1602370660918,
     "user": {
      "displayName": "Max Instellar",
      "photoUrl": "https://lh3.googleusercontent.com/a-/AOh14GiCPJlQRSgcV7OFsy1H9bX_BkpffnABIIypSHvJ=s64",
      "userId": "13594059136253802604"
     },
     "user_tz": -300
    },
    "id": "UlYmFK1wVimF",
    "outputId": "cd396e5f-f478-4765-ea19-b7b9c520af63"
   },
   "outputs": [
    {
     "name": "stdout",
     "output_type": "stream",
     "text": [
      "Dataset 'sales_train' has 99814 raws and 15 columns\n"
     ]
    },
    {
     "data": {
      "text/html": [
       "<div>\n",
       "<style scoped>\n",
       "    .dataframe tbody tr th:only-of-type {\n",
       "        vertical-align: middle;\n",
       "    }\n",
       "\n",
       "    .dataframe tbody tr th {\n",
       "        vertical-align: top;\n",
       "    }\n",
       "\n",
       "    .dataframe thead th {\n",
       "        text-align: right;\n",
       "    }\n",
       "</style>\n",
       "<table border=\"1\" class=\"dataframe\">\n",
       "  <thead>\n",
       "    <tr style=\"text-align: right;\">\n",
       "      <th></th>\n",
       "      <th>date</th>\n",
       "      <th>Month</th>\n",
       "      <th>Year</th>\n",
       "      <th>date_block_num</th>\n",
       "      <th>week</th>\n",
       "      <th>shop_id</th>\n",
       "      <th>item_id</th>\n",
       "      <th>brand_id</th>\n",
       "      <th>item_cnt_day</th>\n",
       "      <th>item_price</th>\n",
       "      <th>discamount</th>\n",
       "      <th>promo</th>\n",
       "      <th>size_disc</th>\n",
       "      <th>promo_time</th>\n",
       "      <th>spec_promo</th>\n",
       "    </tr>\n",
       "  </thead>\n",
       "  <tbody>\n",
       "    <tr>\n",
       "      <th>0</th>\n",
       "      <td>2018-01-01</td>\n",
       "      <td>1</td>\n",
       "      <td>2018</td>\n",
       "      <td>0</td>\n",
       "      <td>1</td>\n",
       "      <td>111</td>\n",
       "      <td>35852544067</td>\n",
       "      <td>10013</td>\n",
       "      <td>1</td>\n",
       "      <td>265</td>\n",
       "      <td>0</td>\n",
       "      <td>0</td>\n",
       "      <td>0</td>\n",
       "      <td>0</td>\n",
       "      <td>0</td>\n",
       "    </tr>\n",
       "    <tr>\n",
       "      <th>1</th>\n",
       "      <td>2018-01-01</td>\n",
       "      <td>1</td>\n",
       "      <td>2018</td>\n",
       "      <td>0</td>\n",
       "      <td>1</td>\n",
       "      <td>111</td>\n",
       "      <td>15793344028</td>\n",
       "      <td>10021</td>\n",
       "      <td>1</td>\n",
       "      <td>228</td>\n",
       "      <td>0</td>\n",
       "      <td>0</td>\n",
       "      <td>0</td>\n",
       "      <td>0</td>\n",
       "      <td>0</td>\n",
       "    </tr>\n",
       "    <tr>\n",
       "      <th>2</th>\n",
       "      <td>2018-01-01</td>\n",
       "      <td>1</td>\n",
       "      <td>2018</td>\n",
       "      <td>0</td>\n",
       "      <td>1</td>\n",
       "      <td>111</td>\n",
       "      <td>8221024002</td>\n",
       "      <td>10021</td>\n",
       "      <td>1</td>\n",
       "      <td>425</td>\n",
       "      <td>0</td>\n",
       "      <td>0</td>\n",
       "      <td>0</td>\n",
       "      <td>0</td>\n",
       "      <td>0</td>\n",
       "    </tr>\n",
       "    <tr>\n",
       "      <th>3</th>\n",
       "      <td>2018-01-01</td>\n",
       "      <td>1</td>\n",
       "      <td>2018</td>\n",
       "      <td>0</td>\n",
       "      <td>1</td>\n",
       "      <td>111</td>\n",
       "      <td>20221376004</td>\n",
       "      <td>10013</td>\n",
       "      <td>1</td>\n",
       "      <td>139</td>\n",
       "      <td>0</td>\n",
       "      <td>0</td>\n",
       "      <td>0</td>\n",
       "      <td>0</td>\n",
       "      <td>0</td>\n",
       "    </tr>\n",
       "    <tr>\n",
       "      <th>4</th>\n",
       "      <td>2018-01-01</td>\n",
       "      <td>1</td>\n",
       "      <td>2018</td>\n",
       "      <td>0</td>\n",
       "      <td>1</td>\n",
       "      <td>111</td>\n",
       "      <td>20221040001</td>\n",
       "      <td>10013</td>\n",
       "      <td>1</td>\n",
       "      <td>135</td>\n",
       "      <td>0</td>\n",
       "      <td>0</td>\n",
       "      <td>0</td>\n",
       "      <td>0</td>\n",
       "      <td>0</td>\n",
       "    </tr>\n",
       "  </tbody>\n",
       "</table>\n",
       "</div>"
      ],
      "text/plain": [
       "        date  Month  Year  ...  size_disc  promo_time  spec_promo\n",
       "0 2018-01-01      1  2018  ...          0           0           0\n",
       "1 2018-01-01      1  2018  ...          0           0           0\n",
       "2 2018-01-01      1  2018  ...          0           0           0\n",
       "3 2018-01-01      1  2018  ...          0           0           0\n",
       "4 2018-01-01      1  2018  ...          0           0           0\n",
       "\n",
       "[5 rows x 15 columns]"
      ]
     },
     "execution_count": 13,
     "metadata": {
      "tags": []
     },
     "output_type": "execute_result"
    }
   ],
   "source": [
    "print(f\"Dataset 'sales_train' has {sales_train_df.shape[0]} raws and {sales_train_df.shape[1]} columns\")\n",
    "sales_train_df.head(5)"
   ]
  },
  {
   "cell_type": "markdown",
   "metadata": {
    "id": "XzLoJ4OonDzB"
   },
   "source": [
    "store code, product code, brand code, shop_id, item_id, promo, brand_id, spec_promo are categorical attributes"
   ]
  },
  {
   "cell_type": "code",
   "execution_count": 14,
   "metadata": {
    "colab": {
     "base_uri": "https://localhost:8080/",
     "height": 161
    },
    "executionInfo": {
     "elapsed": 51961,
     "status": "ok",
     "timestamp": 1602370660918,
     "user": {
      "displayName": "Max Instellar",
      "photoUrl": "https://lh3.googleusercontent.com/a-/AOh14GiCPJlQRSgcV7OFsy1H9bX_BkpffnABIIypSHvJ=s64",
      "userId": "13594059136253802604"
     },
     "user_tz": -300
    },
    "id": "A_C5MBz1WJHg",
    "outputId": "09c4829c-3c15-4fa7-b1d5-ea07888edc5f"
   },
   "outputs": [
    {
     "name": "stdout",
     "output_type": "stream",
     "text": [
      "Dataset 'items_df' has 1367 raws and 4 columns\n"
     ]
    },
    {
     "data": {
      "text/html": [
       "<div>\n",
       "<style scoped>\n",
       "    .dataframe tbody tr th:only-of-type {\n",
       "        vertical-align: middle;\n",
       "    }\n",
       "\n",
       "    .dataframe tbody tr th {\n",
       "        vertical-align: top;\n",
       "    }\n",
       "\n",
       "    .dataframe thead th {\n",
       "        text-align: right;\n",
       "    }\n",
       "</style>\n",
       "<table border=\"1\" class=\"dataframe\">\n",
       "  <thead>\n",
       "    <tr style=\"text-align: right;\">\n",
       "      <th></th>\n",
       "      <th>item_id</th>\n",
       "      <th>brand_id</th>\n",
       "      <th>item_category_id</th>\n",
       "      <th>item_category</th>\n",
       "    </tr>\n",
       "  </thead>\n",
       "  <tbody>\n",
       "    <tr>\n",
       "      <th>0</th>\n",
       "      <td>20224176006</td>\n",
       "      <td>10013</td>\n",
       "      <td>444</td>\n",
       "      <td>Макияж</td>\n",
       "    </tr>\n",
       "    <tr>\n",
       "      <th>1</th>\n",
       "      <td>20221040001</td>\n",
       "      <td>10013</td>\n",
       "      <td>444</td>\n",
       "      <td>Макияж</td>\n",
       "    </tr>\n",
       "    <tr>\n",
       "      <th>2</th>\n",
       "      <td>20221376004</td>\n",
       "      <td>10013</td>\n",
       "      <td>444</td>\n",
       "      <td>Макияж</td>\n",
       "    </tr>\n",
       "  </tbody>\n",
       "</table>\n",
       "</div>"
      ],
      "text/plain": [
       "       item_id  brand_id  item_category_id item_category\n",
       "0  20224176006     10013               444        Макияж\n",
       "1  20221040001     10013               444        Макияж\n",
       "2  20221376004     10013               444        Макияж"
      ]
     },
     "execution_count": 14,
     "metadata": {
      "tags": []
     },
     "output_type": "execute_result"
    }
   ],
   "source": [
    "print(f\"Dataset 'items_df' has {items_df.shape[0]} raws and {items_df.shape[1]} columns\")\n",
    "items_df.head(3)"
   ]
  },
  {
   "cell_type": "markdown",
   "metadata": {
    "id": "YGDtigwp7i-J"
   },
   "source": [
    "To find out, of what data types items_df columns, we can use .dtypes property:"
   ]
  },
  {
   "cell_type": "code",
   "execution_count": 15,
   "metadata": {
    "colab": {
     "base_uri": "https://localhost:8080/",
     "height": 104
    },
    "executionInfo": {
     "elapsed": 51956,
     "status": "ok",
     "timestamp": 1602370660918,
     "user": {
      "displayName": "Max Instellar",
      "photoUrl": "https://lh3.googleusercontent.com/a-/AOh14GiCPJlQRSgcV7OFsy1H9bX_BkpffnABIIypSHvJ=s64",
      "userId": "13594059136253802604"
     },
     "user_tz": -300
    },
    "id": "N2fL-L1h6c8x",
    "outputId": "9e114abc-00f7-42cf-d3e0-1310c9ce8362"
   },
   "outputs": [
    {
     "data": {
      "text/plain": [
       "item_id             object\n",
       "brand_id             int64\n",
       "item_category_id     int64\n",
       "item_category       object\n",
       "dtype: object"
      ]
     },
     "execution_count": 15,
     "metadata": {
      "tags": []
     },
     "output_type": "execute_result"
    }
   ],
   "source": [
    "items_df.dtypes"
   ]
  },
  {
   "cell_type": "markdown",
   "metadata": {
    "id": "nC1xrz7FX7A1"
   },
   "source": [
    "So, we have some Russian words in, we should replace them - prepare dict with words for replacing, and just using .replace() method"
   ]
  },
  {
   "cell_type": "code",
   "execution_count": 16,
   "metadata": {
    "colab": {
     "base_uri": "https://localhost:8080/",
     "height": 161
    },
    "executionInfo": {
     "elapsed": 51953,
     "status": "ok",
     "timestamp": 1602370660919,
     "user": {
      "displayName": "Max Instellar",
      "photoUrl": "https://lh3.googleusercontent.com/a-/AOh14GiCPJlQRSgcV7OFsy1H9bX_BkpffnABIIypSHvJ=s64",
      "userId": "13594059136253802604"
     },
     "user_tz": -300
    },
    "id": "zzOoTSyZWVUv",
    "outputId": "af209478-dcc3-47ba-93b2-421126510067"
   },
   "outputs": [
    {
     "name": "stdout",
     "output_type": "stream",
     "text": [
      "Unique items: ['makeup', 'perfume', 'grooming', 'hair_care']\n"
     ]
    },
    {
     "data": {
      "text/html": [
       "<div>\n",
       "<style scoped>\n",
       "    .dataframe tbody tr th:only-of-type {\n",
       "        vertical-align: middle;\n",
       "    }\n",
       "\n",
       "    .dataframe tbody tr th {\n",
       "        vertical-align: top;\n",
       "    }\n",
       "\n",
       "    .dataframe thead th {\n",
       "        text-align: right;\n",
       "    }\n",
       "</style>\n",
       "<table border=\"1\" class=\"dataframe\">\n",
       "  <thead>\n",
       "    <tr style=\"text-align: right;\">\n",
       "      <th></th>\n",
       "      <th>item_id</th>\n",
       "      <th>brand_id</th>\n",
       "      <th>item_category_id</th>\n",
       "      <th>item_category</th>\n",
       "    </tr>\n",
       "  </thead>\n",
       "  <tbody>\n",
       "    <tr>\n",
       "      <th>0</th>\n",
       "      <td>20224176006</td>\n",
       "      <td>10013</td>\n",
       "      <td>444</td>\n",
       "      <td>makeup</td>\n",
       "    </tr>\n",
       "    <tr>\n",
       "      <th>1</th>\n",
       "      <td>20221040001</td>\n",
       "      <td>10013</td>\n",
       "      <td>444</td>\n",
       "      <td>makeup</td>\n",
       "    </tr>\n",
       "    <tr>\n",
       "      <th>2</th>\n",
       "      <td>20221376004</td>\n",
       "      <td>10013</td>\n",
       "      <td>444</td>\n",
       "      <td>makeup</td>\n",
       "    </tr>\n",
       "  </tbody>\n",
       "</table>\n",
       "</div>"
      ],
      "text/plain": [
       "       item_id  brand_id  item_category_id item_category\n",
       "0  20224176006     10013               444        makeup\n",
       "1  20221040001     10013               444        makeup\n",
       "2  20221376004     10013               444        makeup"
      ]
     },
     "execution_count": 16,
     "metadata": {
      "tags": []
     },
     "output_type": "execute_result"
    }
   ],
   "source": [
    "# See all unique words in a item_category column: \n",
    "makeup_items_rus = items_df['item_category'].unique().tolist()\n",
    "# See all unique words in a item_category column: \n",
    "makeup_items_eng = ['makeup', 'perfume', 'grooming', 'hair_care']\n",
    "# Form a word-to-word dict\n",
    "makeup_items_dict = dict([(makeup_items_rus[i], makeup_items_eng[i]) for i in range(len(makeup_items_rus))])\n",
    "\n",
    "# Use replace() method to replace Russian word to English ones\n",
    "items_df['item_category'] = items_df['item_category'].replace(makeup_items_dict)\n",
    "\n",
    "# Check, if we replaced all items\n",
    "print(f\"Unique items: {items_df['item_category'].unique().tolist()}\")\n",
    "items_df.head(3)"
   ]
  },
  {
   "cell_type": "code",
   "execution_count": 17,
   "metadata": {
    "colab": {
     "base_uri": "https://localhost:8080/",
     "height": 161
    },
    "executionInfo": {
     "elapsed": 51948,
     "status": "ok",
     "timestamp": 1602370660919,
     "user": {
      "displayName": "Max Instellar",
      "photoUrl": "https://lh3.googleusercontent.com/a-/AOh14GiCPJlQRSgcV7OFsy1H9bX_BkpffnABIIypSHvJ=s64",
      "userId": "13594059136253802604"
     },
     "user_tz": -300
    },
    "id": "9AFtZ6zWWJHn",
    "outputId": "6c0ef62d-941c-4e9b-dc71-ae363d803fa2"
   },
   "outputs": [
    {
     "name": "stdout",
     "output_type": "stream",
     "text": [
      "Dataset 'stock_df' has 17678 raws and 5 columns\n"
     ]
    },
    {
     "data": {
      "text/html": [
       "<div>\n",
       "<style scoped>\n",
       "    .dataframe tbody tr th:only-of-type {\n",
       "        vertical-align: middle;\n",
       "    }\n",
       "\n",
       "    .dataframe tbody tr th {\n",
       "        vertical-align: top;\n",
       "    }\n",
       "\n",
       "    .dataframe thead th {\n",
       "        text-align: right;\n",
       "    }\n",
       "</style>\n",
       "<table border=\"1\" class=\"dataframe\">\n",
       "  <thead>\n",
       "    <tr style=\"text-align: right;\">\n",
       "      <th></th>\n",
       "      <th>store</th>\n",
       "      <th>month</th>\n",
       "      <th>days with 0 balance</th>\n",
       "      <th>year</th>\n",
       "      <th>itemid</th>\n",
       "    </tr>\n",
       "  </thead>\n",
       "  <tbody>\n",
       "    <tr>\n",
       "      <th>0</th>\n",
       "      <td>128</td>\n",
       "      <td>9</td>\n",
       "      <td>3</td>\n",
       "      <td>2018</td>\n",
       "      <td>15799504008</td>\n",
       "    </tr>\n",
       "    <tr>\n",
       "      <th>1</th>\n",
       "      <td>111</td>\n",
       "      <td>9</td>\n",
       "      <td>2</td>\n",
       "      <td>2018</td>\n",
       "      <td>15816752002</td>\n",
       "    </tr>\n",
       "    <tr>\n",
       "      <th>2</th>\n",
       "      <td>128</td>\n",
       "      <td>12</td>\n",
       "      <td>1</td>\n",
       "      <td>2018</td>\n",
       "      <td>35865312103</td>\n",
       "    </tr>\n",
       "  </tbody>\n",
       "</table>\n",
       "</div>"
      ],
      "text/plain": [
       "   store  month  days with 0 balance  year       itemid\n",
       "0    128      9                    3  2018  15799504008\n",
       "1    111      9                    2  2018  15816752002\n",
       "2    128     12                    1  2018  35865312103"
      ]
     },
     "execution_count": 17,
     "metadata": {
      "tags": []
     },
     "output_type": "execute_result"
    }
   ],
   "source": [
    "print(f\"Dataset 'stock_df' has {stock_df.shape[0]} raws and {stock_df.shape[1]} columns\")\n",
    "stock_df.head(3)"
   ]
  },
  {
   "cell_type": "markdown",
   "metadata": {
    "id": "RMYUflvgAREa"
   },
   "source": [
    "Just create 2 new columns with 0 values"
   ]
  },
  {
   "cell_type": "code",
   "execution_count": 18,
   "metadata": {
    "colab": {
     "base_uri": "https://localhost:8080/",
     "height": 143
    },
    "executionInfo": {
     "elapsed": 51945,
     "status": "ok",
     "timestamp": 1602370660920,
     "user": {
      "displayName": "Max Instellar",
      "photoUrl": "https://lh3.googleusercontent.com/a-/AOh14GiCPJlQRSgcV7OFsy1H9bX_BkpffnABIIypSHvJ=s64",
      "userId": "13594059136253802604"
     },
     "user_tz": -300
    },
    "id": "_vC2Pn_q98ZW",
    "outputId": "a9ffa769-721e-4c1f-d24e-ff02361bb42e"
   },
   "outputs": [
    {
     "data": {
      "text/html": [
       "<div>\n",
       "<style scoped>\n",
       "    .dataframe tbody tr th:only-of-type {\n",
       "        vertical-align: middle;\n",
       "    }\n",
       "\n",
       "    .dataframe tbody tr th {\n",
       "        vertical-align: top;\n",
       "    }\n",
       "\n",
       "    .dataframe thead th {\n",
       "        text-align: right;\n",
       "    }\n",
       "</style>\n",
       "<table border=\"1\" class=\"dataframe\">\n",
       "  <thead>\n",
       "    <tr style=\"text-align: right;\">\n",
       "      <th></th>\n",
       "      <th>date</th>\n",
       "      <th>Month</th>\n",
       "      <th>Year</th>\n",
       "      <th>date_block_num</th>\n",
       "      <th>week</th>\n",
       "      <th>shop_id</th>\n",
       "      <th>item_id</th>\n",
       "      <th>brand_id</th>\n",
       "      <th>item_cnt_day</th>\n",
       "      <th>item_price</th>\n",
       "      <th>discamount</th>\n",
       "      <th>promo</th>\n",
       "      <th>size_disc</th>\n",
       "      <th>promo_time</th>\n",
       "      <th>spec_promo</th>\n",
       "      <th>item_category_id</th>\n",
       "      <th>item_category</th>\n",
       "    </tr>\n",
       "  </thead>\n",
       "  <tbody>\n",
       "    <tr>\n",
       "      <th>0</th>\n",
       "      <td>2018-01-01</td>\n",
       "      <td>1</td>\n",
       "      <td>2018</td>\n",
       "      <td>0</td>\n",
       "      <td>1</td>\n",
       "      <td>111</td>\n",
       "      <td>35852544067</td>\n",
       "      <td>10013</td>\n",
       "      <td>1</td>\n",
       "      <td>265</td>\n",
       "      <td>0</td>\n",
       "      <td>0</td>\n",
       "      <td>0</td>\n",
       "      <td>0</td>\n",
       "      <td>0</td>\n",
       "      <td>0</td>\n",
       "      <td>0</td>\n",
       "    </tr>\n",
       "    <tr>\n",
       "      <th>1</th>\n",
       "      <td>2018-01-01</td>\n",
       "      <td>1</td>\n",
       "      <td>2018</td>\n",
       "      <td>0</td>\n",
       "      <td>1</td>\n",
       "      <td>111</td>\n",
       "      <td>15793344028</td>\n",
       "      <td>10021</td>\n",
       "      <td>1</td>\n",
       "      <td>228</td>\n",
       "      <td>0</td>\n",
       "      <td>0</td>\n",
       "      <td>0</td>\n",
       "      <td>0</td>\n",
       "      <td>0</td>\n",
       "      <td>0</td>\n",
       "      <td>0</td>\n",
       "    </tr>\n",
       "    <tr>\n",
       "      <th>2</th>\n",
       "      <td>2018-01-01</td>\n",
       "      <td>1</td>\n",
       "      <td>2018</td>\n",
       "      <td>0</td>\n",
       "      <td>1</td>\n",
       "      <td>111</td>\n",
       "      <td>8221024002</td>\n",
       "      <td>10021</td>\n",
       "      <td>1</td>\n",
       "      <td>425</td>\n",
       "      <td>0</td>\n",
       "      <td>0</td>\n",
       "      <td>0</td>\n",
       "      <td>0</td>\n",
       "      <td>0</td>\n",
       "      <td>0</td>\n",
       "      <td>0</td>\n",
       "    </tr>\n",
       "  </tbody>\n",
       "</table>\n",
       "</div>"
      ],
      "text/plain": [
       "        date  Month  Year  ...  spec_promo  item_category_id  item_category\n",
       "0 2018-01-01      1  2018  ...           0                 0              0\n",
       "1 2018-01-01      1  2018  ...           0                 0              0\n",
       "2 2018-01-01      1  2018  ...           0                 0              0\n",
       "\n",
       "[3 rows x 17 columns]"
      ]
     },
     "execution_count": 18,
     "metadata": {
      "tags": []
     },
     "output_type": "execute_result"
    }
   ],
   "source": [
    "sales_train_df[['item_category_id', 'item_category']] = 0\n",
    "sales_train_df.head(3)"
   ]
  },
  {
   "cell_type": "markdown",
   "metadata": {
    "id": "G6r9VU3x5OQh"
   },
   "source": [
    "Trying to make 'item_id' column as numeric will break"
   ]
  },
  {
   "cell_type": "code",
   "execution_count": 19,
   "metadata": {
    "executionInfo": {
     "elapsed": 51941,
     "status": "ok",
     "timestamp": 1602370660921,
     "user": {
      "displayName": "Max Instellar",
      "photoUrl": "https://lh3.googleusercontent.com/a-/AOh14GiCPJlQRSgcV7OFsy1H9bX_BkpffnABIIypSHvJ=s64",
      "userId": "13594059136253802604"
     },
     "user_tz": -300
    },
    "id": "FgHGZNfr5bjB"
   },
   "outputs": [],
   "source": [
    "# items_df['item_id'] = pd.to_numeric(items_df['item_id'])\n",
    "# ValueError: Unable to parse string \"#Н/Д\" at position 535"
   ]
  },
  {
   "cell_type": "markdown",
   "metadata": {
    "id": "JqDaaVqF6F_f"
   },
   "source": [
    "![изображение.png](data:image/png;base64,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)"
   ]
  },
  {
   "cell_type": "markdown",
   "metadata": {
    "id": "zhjqaXU66JcD"
   },
   "source": [
    "So, we should delete this string, just filtering 'item_id' column with \"!= '#Н/Д'\" condition:"
   ]
  },
  {
   "cell_type": "code",
   "execution_count": 20,
   "metadata": {
    "colab": {
     "base_uri": "https://localhost:8080/",
     "height": 104
    },
    "executionInfo": {
     "elapsed": 51936,
     "status": "ok",
     "timestamp": 1602370660921,
     "user": {
      "displayName": "Max Instellar",
      "photoUrl": "https://lh3.googleusercontent.com/a-/AOh14GiCPJlQRSgcV7OFsy1H9bX_BkpffnABIIypSHvJ=s64",
      "userId": "13594059136253802604"
     },
     "user_tz": -300
    },
    "id": "AdF0lUv64ljJ",
    "outputId": "7a8ff303-129d-4c6f-dd26-3a5f79145bdc"
   },
   "outputs": [
    {
     "data": {
      "text/plain": [
       "item_id              int64\n",
       "brand_id             int64\n",
       "item_category_id     int64\n",
       "item_category       object\n",
       "dtype: object"
      ]
     },
     "execution_count": 20,
     "metadata": {
      "tags": []
     },
     "output_type": "execute_result"
    }
   ],
   "source": [
    "# Filter items_df\n",
    "items_df = items_df[items_df['item_id'] != '#Н/Д']\n",
    "# Convert 'item_id' column to numeric, using pd.to_numeric() method\n",
    "items_df['item_id'] = pd.to_numeric(items_df['item_id'])\n",
    "\n",
    "# Check, if 'item_id' column became numeric\n",
    "items_df.dtypes"
   ]
  },
  {
   "cell_type": "code",
   "execution_count": 21,
   "metadata": {
    "colab": {
     "base_uri": "https://localhost:8080/",
     "height": 287,
     "referenced_widgets": [
      "a81b9c3cadea428b896159c9af41b17d",
      "a2ad49f2876842e5867b4fccf180accd",
      "1e4fe349500b4b64921e699f41130155",
      "1bdf2c61192b4f7b84d696160db95cbb",
      "ffe3542666ab42f7a86f96849e02b303",
      "56e9ec1c4d804efdb161d043305fa443",
      "2ddc2e9477f549b3aad5ed62ba25832b",
      "3032e394d95e4dce80dc89c4474f3d45"
     ]
    },
    "executionInfo": {
     "elapsed": 53326,
     "status": "ok",
     "timestamp": 1602370662315,
     "user": {
      "displayName": "Max Instellar",
      "photoUrl": "https://lh3.googleusercontent.com/a-/AOh14GiCPJlQRSgcV7OFsy1H9bX_BkpffnABIIypSHvJ=s64",
      "userId": "13594059136253802604"
     },
     "user_tz": -300
    },
    "id": "8VupSYSB5_qa",
    "outputId": "c97bc865-dff6-4e40-8826-429a8697cdc9"
   },
   "outputs": [
    {
     "data": {
      "application/vnd.jupyter.widget-view+json": {
       "model_id": "a81b9c3cadea428b896159c9af41b17d",
       "version_major": 2,
       "version_minor": 0
      },
      "text/plain": [
       "HBox(children=(FloatProgress(value=0.0, max=99814.0), HTML(value='')))"
      ]
     },
     "metadata": {
      "tags": []
     },
     "output_type": "display_data"
    },
    {
     "name": "stdout",
     "output_type": "stream",
     "text": [
      "\n"
     ]
    },
    {
     "data": {
      "text/html": [
       "<div>\n",
       "<style scoped>\n",
       "    .dataframe tbody tr th:only-of-type {\n",
       "        vertical-align: middle;\n",
       "    }\n",
       "\n",
       "    .dataframe tbody tr th {\n",
       "        vertical-align: top;\n",
       "    }\n",
       "\n",
       "    .dataframe thead th {\n",
       "        text-align: right;\n",
       "    }\n",
       "</style>\n",
       "<table border=\"1\" class=\"dataframe\">\n",
       "  <thead>\n",
       "    <tr style=\"text-align: right;\">\n",
       "      <th></th>\n",
       "      <th>date</th>\n",
       "      <th>Month</th>\n",
       "      <th>Year</th>\n",
       "      <th>date_block_num</th>\n",
       "      <th>week</th>\n",
       "      <th>shop_id</th>\n",
       "      <th>item_id</th>\n",
       "      <th>brand_id</th>\n",
       "      <th>item_cnt_day</th>\n",
       "      <th>item_price</th>\n",
       "      <th>discamount</th>\n",
       "      <th>promo</th>\n",
       "      <th>size_disc</th>\n",
       "      <th>promo_time</th>\n",
       "      <th>spec_promo</th>\n",
       "      <th>item_category</th>\n",
       "    </tr>\n",
       "    <tr>\n",
       "      <th>item_category_id</th>\n",
       "      <th></th>\n",
       "      <th></th>\n",
       "      <th></th>\n",
       "      <th></th>\n",
       "      <th></th>\n",
       "      <th></th>\n",
       "      <th></th>\n",
       "      <th></th>\n",
       "      <th></th>\n",
       "      <th></th>\n",
       "      <th></th>\n",
       "      <th></th>\n",
       "      <th></th>\n",
       "      <th></th>\n",
       "      <th></th>\n",
       "      <th></th>\n",
       "    </tr>\n",
       "  </thead>\n",
       "  <tbody>\n",
       "    <tr>\n",
       "      <th>0</th>\n",
       "      <td>406</td>\n",
       "      <td>406</td>\n",
       "      <td>406</td>\n",
       "      <td>406</td>\n",
       "      <td>406</td>\n",
       "      <td>406</td>\n",
       "      <td>406</td>\n",
       "      <td>406</td>\n",
       "      <td>406</td>\n",
       "      <td>406</td>\n",
       "      <td>406</td>\n",
       "      <td>406</td>\n",
       "      <td>406</td>\n",
       "      <td>406</td>\n",
       "      <td>406</td>\n",
       "      <td>406</td>\n",
       "    </tr>\n",
       "    <tr>\n",
       "      <th>333</th>\n",
       "      <td>4019</td>\n",
       "      <td>4019</td>\n",
       "      <td>4019</td>\n",
       "      <td>4019</td>\n",
       "      <td>4019</td>\n",
       "      <td>4019</td>\n",
       "      <td>4019</td>\n",
       "      <td>4019</td>\n",
       "      <td>4019</td>\n",
       "      <td>4019</td>\n",
       "      <td>4019</td>\n",
       "      <td>4019</td>\n",
       "      <td>4019</td>\n",
       "      <td>4019</td>\n",
       "      <td>4019</td>\n",
       "      <td>4019</td>\n",
       "    </tr>\n",
       "    <tr>\n",
       "      <th>444</th>\n",
       "      <td>49886</td>\n",
       "      <td>49886</td>\n",
       "      <td>49886</td>\n",
       "      <td>49886</td>\n",
       "      <td>49886</td>\n",
       "      <td>49886</td>\n",
       "      <td>49886</td>\n",
       "      <td>49886</td>\n",
       "      <td>49886</td>\n",
       "      <td>49886</td>\n",
       "      <td>49886</td>\n",
       "      <td>49886</td>\n",
       "      <td>49886</td>\n",
       "      <td>49886</td>\n",
       "      <td>49886</td>\n",
       "      <td>49886</td>\n",
       "    </tr>\n",
       "    <tr>\n",
       "      <th>555</th>\n",
       "      <td>45099</td>\n",
       "      <td>45099</td>\n",
       "      <td>45099</td>\n",
       "      <td>45099</td>\n",
       "      <td>45099</td>\n",
       "      <td>45099</td>\n",
       "      <td>45099</td>\n",
       "      <td>45099</td>\n",
       "      <td>45099</td>\n",
       "      <td>45099</td>\n",
       "      <td>45099</td>\n",
       "      <td>45099</td>\n",
       "      <td>45099</td>\n",
       "      <td>45099</td>\n",
       "      <td>45099</td>\n",
       "      <td>45099</td>\n",
       "    </tr>\n",
       "    <tr>\n",
       "      <th>666</th>\n",
       "      <td>404</td>\n",
       "      <td>404</td>\n",
       "      <td>404</td>\n",
       "      <td>404</td>\n",
       "      <td>404</td>\n",
       "      <td>404</td>\n",
       "      <td>404</td>\n",
       "      <td>404</td>\n",
       "      <td>404</td>\n",
       "      <td>404</td>\n",
       "      <td>404</td>\n",
       "      <td>404</td>\n",
       "      <td>404</td>\n",
       "      <td>404</td>\n",
       "      <td>404</td>\n",
       "      <td>404</td>\n",
       "    </tr>\n",
       "  </tbody>\n",
       "</table>\n",
       "</div>"
      ],
      "text/plain": [
       "                   date  Month   Year  ...  promo_time  spec_promo  item_category\n",
       "item_category_id                       ...                                       \n",
       "0                   406    406    406  ...         406         406            406\n",
       "333                4019   4019   4019  ...        4019        4019           4019\n",
       "444               49886  49886  49886  ...       49886       49886          49886\n",
       "555               45099  45099  45099  ...       45099       45099          45099\n",
       "666                 404    404    404  ...         404         404            404\n",
       "\n",
       "[5 rows x 16 columns]"
      ]
     },
     "execution_count": 21,
     "metadata": {
      "tags": []
     },
     "output_type": "execute_result"
    }
   ],
   "source": [
    "from tqdm.notebook import tqdm\n",
    "\n",
    "# Extract the corresponding item_id to item_category_id\n",
    "items_df_dict_id = dict([(items_df.iloc[i]['item_id'], \n",
    "                          items_df.iloc[i]['item_category_id']) \n",
    "                            for i in range(items_df.shape[0])])\n",
    "# print(items_df_dict_id)  # {20224176006: 444, ... etc.}\n",
    "\n",
    "# Extract the corresponding item_id to item_category\n",
    "items_df_dict_category = dict([(items_df.iloc[i]['item_id'], \n",
    "                                items_df.iloc[i]['item_category']) \n",
    "                                    for i in range(items_df.shape[0])])\n",
    "# print(items_df_dict_category)  # {20224176006: 'makeup',  ... etc.}\n",
    "\n",
    "item_category_id, item_category = [], []\n",
    "\n",
    "for item_id in tqdm(sales_train_df['item_id'].tolist()):\n",
    "    if item_id in items_df_dict_id.keys():  # Check if category in a dict keys\n",
    "        item_category_id.append(items_df_dict_id[item_id])\n",
    "    else:\n",
    "        item_category_id.append(0)  # For unknown category set 0\n",
    "    if item_id in items_df_dict_category.keys():  # Check if category in a dict keys\n",
    "        item_category.append(items_df_dict_category[item_id])\n",
    "    else:\n",
    "        item_category.append(0)  # For unknown category set 0\n",
    "    \n",
    "# Input data into table\n",
    "sales_train_df['item_category_id'] = item_category_id\n",
    "sales_train_df['item_category'] = item_category\n",
    "\n",
    "# Group the table by item_category_id\n",
    "# See that for 406 items we don't know the category type:\n",
    "sales_train_df.groupby('item_category_id').count()"
   ]
  },
  {
   "cell_type": "markdown",
   "metadata": {
    "id": "YNs0YFMDQF4y"
   },
   "source": [
    "So, we don't need items_df anymore theese information was added into sales_train_df in the last ones two columns"
   ]
  },
  {
   "cell_type": "code",
   "execution_count": 22,
   "metadata": {
    "colab": {
     "base_uri": "https://localhost:8080/",
     "height": 143
    },
    "executionInfo": {
     "elapsed": 53323,
     "status": "ok",
     "timestamp": 1602370662317,
     "user": {
      "displayName": "Max Instellar",
      "photoUrl": "https://lh3.googleusercontent.com/a-/AOh14GiCPJlQRSgcV7OFsy1H9bX_BkpffnABIIypSHvJ=s64",
      "userId": "13594059136253802604"
     },
     "user_tz": -300
    },
    "id": "kfzNFL6vWH7S",
    "outputId": "de2545c9-2f24-4123-b73d-5cb2a5b763ac"
   },
   "outputs": [
    {
     "data": {
      "text/html": [
       "<div>\n",
       "<style scoped>\n",
       "    .dataframe tbody tr th:only-of-type {\n",
       "        vertical-align: middle;\n",
       "    }\n",
       "\n",
       "    .dataframe tbody tr th {\n",
       "        vertical-align: top;\n",
       "    }\n",
       "\n",
       "    .dataframe thead th {\n",
       "        text-align: right;\n",
       "    }\n",
       "</style>\n",
       "<table border=\"1\" class=\"dataframe\">\n",
       "  <thead>\n",
       "    <tr style=\"text-align: right;\">\n",
       "      <th></th>\n",
       "      <th>date</th>\n",
       "      <th>Month</th>\n",
       "      <th>Year</th>\n",
       "      <th>date_block_num</th>\n",
       "      <th>week</th>\n",
       "      <th>shop_id</th>\n",
       "      <th>item_id</th>\n",
       "      <th>brand_id</th>\n",
       "      <th>item_cnt_day</th>\n",
       "      <th>item_price</th>\n",
       "      <th>discamount</th>\n",
       "      <th>promo</th>\n",
       "      <th>size_disc</th>\n",
       "      <th>promo_time</th>\n",
       "      <th>spec_promo</th>\n",
       "      <th>item_category_id</th>\n",
       "      <th>item_category</th>\n",
       "    </tr>\n",
       "  </thead>\n",
       "  <tbody>\n",
       "    <tr>\n",
       "      <th>0</th>\n",
       "      <td>2018-01-01</td>\n",
       "      <td>1</td>\n",
       "      <td>2018</td>\n",
       "      <td>0</td>\n",
       "      <td>1</td>\n",
       "      <td>111</td>\n",
       "      <td>35852544067</td>\n",
       "      <td>10013</td>\n",
       "      <td>1</td>\n",
       "      <td>265</td>\n",
       "      <td>0</td>\n",
       "      <td>0</td>\n",
       "      <td>0</td>\n",
       "      <td>0</td>\n",
       "      <td>0</td>\n",
       "      <td>444</td>\n",
       "      <td>makeup</td>\n",
       "    </tr>\n",
       "    <tr>\n",
       "      <th>1</th>\n",
       "      <td>2018-01-01</td>\n",
       "      <td>1</td>\n",
       "      <td>2018</td>\n",
       "      <td>0</td>\n",
       "      <td>1</td>\n",
       "      <td>111</td>\n",
       "      <td>15793344028</td>\n",
       "      <td>10021</td>\n",
       "      <td>1</td>\n",
       "      <td>228</td>\n",
       "      <td>0</td>\n",
       "      <td>0</td>\n",
       "      <td>0</td>\n",
       "      <td>0</td>\n",
       "      <td>0</td>\n",
       "      <td>444</td>\n",
       "      <td>makeup</td>\n",
       "    </tr>\n",
       "    <tr>\n",
       "      <th>2</th>\n",
       "      <td>2018-01-01</td>\n",
       "      <td>1</td>\n",
       "      <td>2018</td>\n",
       "      <td>0</td>\n",
       "      <td>1</td>\n",
       "      <td>111</td>\n",
       "      <td>8221024002</td>\n",
       "      <td>10021</td>\n",
       "      <td>1</td>\n",
       "      <td>425</td>\n",
       "      <td>0</td>\n",
       "      <td>0</td>\n",
       "      <td>0</td>\n",
       "      <td>0</td>\n",
       "      <td>0</td>\n",
       "      <td>333</td>\n",
       "      <td>perfume</td>\n",
       "    </tr>\n",
       "  </tbody>\n",
       "</table>\n",
       "</div>"
      ],
      "text/plain": [
       "        date  Month  Year  ...  spec_promo  item_category_id  item_category\n",
       "0 2018-01-01      1  2018  ...           0               444         makeup\n",
       "1 2018-01-01      1  2018  ...           0               444         makeup\n",
       "2 2018-01-01      1  2018  ...           0               333        perfume\n",
       "\n",
       "[3 rows x 17 columns]"
      ]
     },
     "execution_count": 22,
     "metadata": {
      "tags": []
     },
     "output_type": "execute_result"
    }
   ],
   "source": [
    "# rename sales_train_df to a simple df\n",
    "df = sales_train_df\n",
    "df.head(3)"
   ]
  },
  {
   "cell_type": "code",
   "execution_count": 23,
   "metadata": {
    "colab": {
     "base_uri": "https://localhost:8080/",
     "height": 143
    },
    "executionInfo": {
     "elapsed": 53318,
     "status": "ok",
     "timestamp": 1602370662318,
     "user": {
      "displayName": "Max Instellar",
      "photoUrl": "https://lh3.googleusercontent.com/a-/AOh14GiCPJlQRSgcV7OFsy1H9bX_BkpffnABIIypSHvJ=s64",
      "userId": "13594059136253802604"
     },
     "user_tz": -300
    },
    "id": "5NvjD91DVniu",
    "outputId": "3c72ee63-e7cd-4a13-c7f9-3bc3562ccde3"
   },
   "outputs": [
    {
     "data": {
      "text/html": [
       "<div>\n",
       "<style scoped>\n",
       "    .dataframe tbody tr th:only-of-type {\n",
       "        vertical-align: middle;\n",
       "    }\n",
       "\n",
       "    .dataframe tbody tr th {\n",
       "        vertical-align: top;\n",
       "    }\n",
       "\n",
       "    .dataframe thead th {\n",
       "        text-align: right;\n",
       "    }\n",
       "</style>\n",
       "<table border=\"1\" class=\"dataframe\">\n",
       "  <thead>\n",
       "    <tr style=\"text-align: right;\">\n",
       "      <th></th>\n",
       "      <th>store</th>\n",
       "      <th>month</th>\n",
       "      <th>days with 0 balance</th>\n",
       "      <th>year</th>\n",
       "      <th>itemid</th>\n",
       "    </tr>\n",
       "  </thead>\n",
       "  <tbody>\n",
       "    <tr>\n",
       "      <th>0</th>\n",
       "      <td>128</td>\n",
       "      <td>9</td>\n",
       "      <td>3</td>\n",
       "      <td>2018</td>\n",
       "      <td>15799504008</td>\n",
       "    </tr>\n",
       "    <tr>\n",
       "      <th>1</th>\n",
       "      <td>111</td>\n",
       "      <td>9</td>\n",
       "      <td>2</td>\n",
       "      <td>2018</td>\n",
       "      <td>15816752002</td>\n",
       "    </tr>\n",
       "    <tr>\n",
       "      <th>2</th>\n",
       "      <td>128</td>\n",
       "      <td>12</td>\n",
       "      <td>1</td>\n",
       "      <td>2018</td>\n",
       "      <td>35865312103</td>\n",
       "    </tr>\n",
       "  </tbody>\n",
       "</table>\n",
       "</div>"
      ],
      "text/plain": [
       "   store  month  days with 0 balance  year       itemid\n",
       "0    128      9                    3  2018  15799504008\n",
       "1    111      9                    2  2018  15816752002\n",
       "2    128     12                    1  2018  35865312103"
      ]
     },
     "execution_count": 23,
     "metadata": {
      "tags": []
     },
     "output_type": "execute_result"
    }
   ],
   "source": [
    "stock_df.head(3)"
   ]
  },
  {
   "cell_type": "markdown",
   "metadata": {
    "id": "XMI8XHE6XVEm"
   },
   "source": [
    "Days with 0 balance unique values"
   ]
  },
  {
   "cell_type": "code",
   "execution_count": 24,
   "metadata": {
    "colab": {
     "base_uri": "https://localhost:8080/",
     "height": 52
    },
    "executionInfo": {
     "elapsed": 53314,
     "status": "ok",
     "timestamp": 1602370662319,
     "user": {
      "displayName": "Max Instellar",
      "photoUrl": "https://lh3.googleusercontent.com/a-/AOh14GiCPJlQRSgcV7OFsy1H9bX_BkpffnABIIypSHvJ=s64",
      "userId": "13594059136253802604"
     },
     "user_tz": -300
    },
    "id": "Wb9B4GeQXPGD",
    "outputId": "addd8497-4b4d-4480-a925-9d8b7f721077"
   },
   "outputs": [
    {
     "data": {
      "text/plain": [
       "array([ 3,  2,  1, 30, 10, 31,  4,  7, 25, 11,  9, 19, 22, 14,  6,  5, 13,\n",
       "       15, 26, 29, 17, 28,  8, 12, 20, 16, 21, 18, 24, 23, 27])"
      ]
     },
     "execution_count": 24,
     "metadata": {
      "tags": []
     },
     "output_type": "execute_result"
    }
   ],
   "source": [
    "stock_df['days with 0 balance'].unique()"
   ]
  },
  {
   "cell_type": "code",
   "execution_count": 25,
   "metadata": {
    "colab": {
     "base_uri": "https://localhost:8080/",
     "height": 121
    },
    "executionInfo": {
     "elapsed": 53310,
     "status": "ok",
     "timestamp": 1602370662319,
     "user": {
      "displayName": "Max Instellar",
      "photoUrl": "https://lh3.googleusercontent.com/a-/AOh14GiCPJlQRSgcV7OFsy1H9bX_BkpffnABIIypSHvJ=s64",
      "userId": "13594059136253802604"
     },
     "user_tz": -300
    },
    "id": "eB-hmJcNg6cX",
    "outputId": "7b1f39a3-8ce2-4f40-f6ae-cf4b11b22523"
   },
   "outputs": [
    {
     "data": {
      "text/plain": [
       "store                  int64\n",
       "month                  int64\n",
       "days with 0 balance    int64\n",
       "year                   int64\n",
       "itemid                 int64\n",
       "dtype: object"
      ]
     },
     "execution_count": 25,
     "metadata": {
      "tags": []
     },
     "output_type": "execute_result"
    }
   ],
   "source": [
    "stock_df.dtypes"
   ]
  },
  {
   "cell_type": "code",
   "execution_count": 26,
   "metadata": {
    "colab": {
     "base_uri": "https://localhost:8080/",
     "height": 34
    },
    "executionInfo": {
     "elapsed": 53305,
     "status": "ok",
     "timestamp": 1602370662319,
     "user": {
      "displayName": "Max Instellar",
      "photoUrl": "https://lh3.googleusercontent.com/a-/AOh14GiCPJlQRSgcV7OFsy1H9bX_BkpffnABIIypSHvJ=s64",
      "userId": "13594059136253802604"
     },
     "user_tz": -300
    },
    "id": "m4cXv1LOhNY-",
    "outputId": "804b215b-774f-42ee-fb74-b56004e3b676"
   },
   "outputs": [
    {
     "data": {
      "text/plain": [
       "numpy.int64"
      ]
     },
     "execution_count": 26,
     "metadata": {
      "tags": []
     },
     "output_type": "execute_result"
    }
   ],
   "source": [
    "type(df.iloc[1]['item_id'])"
   ]
  },
  {
   "cell_type": "markdown",
   "metadata": {
    "id": "D8MSuj_Jjthu"
   },
   "source": [
    "Add data 'days with 0 balance' from stock_df to df dataframe"
   ]
  },
  {
   "cell_type": "code",
   "execution_count": 27,
   "metadata": {
    "colab": {
     "base_uri": "https://localhost:8080/",
     "height": 255,
     "referenced_widgets": [
      "facd1238ce06427f8d469ff61a1cf1a3",
      "e97d2c31fbde499e9805d888162f78dc",
      "c0e1b3deb2a54ce1880966eb03e9c64d",
      "c73bc316700c4892946b00146cdd7c94",
      "f5f5f95d51a34efea94ebe9e2d6e2729",
      "ad4c6a1fb40e48b2a3a4637ac4e1bbff",
      "0d88c7bd2c18479fb5e1023298ac91eb",
      "49a50f14c9e8407fb5525f79b1a1f6cd"
     ]
    },
    "executionInfo": {
     "elapsed": 351618,
     "status": "ok",
     "timestamp": 1602370960637,
     "user": {
      "displayName": "Max Instellar",
      "photoUrl": "https://lh3.googleusercontent.com/a-/AOh14GiCPJlQRSgcV7OFsy1H9bX_BkpffnABIIypSHvJ=s64",
      "userId": "13594059136253802604"
     },
     "user_tz": -300
    },
    "id": "cn8Yo_f7dj7z",
    "outputId": "57c46a3a-71ed-4fcf-9a79-2c87e0102ee7"
   },
   "outputs": [
    {
     "data": {
      "application/vnd.jupyter.widget-view+json": {
       "model_id": "facd1238ce06427f8d469ff61a1cf1a3",
       "version_major": 2,
       "version_minor": 0
      },
      "text/plain": [
       "HBox(children=(FloatProgress(value=0.0, max=99814.0), HTML(value='')))"
      ]
     },
     "metadata": {
      "tags": []
     },
     "output_type": "display_data"
    },
    {
     "name": "stdout",
     "output_type": "stream",
     "text": [
      "\n"
     ]
    },
    {
     "data": {
      "text/html": [
       "<div>\n",
       "<style scoped>\n",
       "    .dataframe tbody tr th:only-of-type {\n",
       "        vertical-align: middle;\n",
       "    }\n",
       "\n",
       "    .dataframe tbody tr th {\n",
       "        vertical-align: top;\n",
       "    }\n",
       "\n",
       "    .dataframe thead th {\n",
       "        text-align: right;\n",
       "    }\n",
       "</style>\n",
       "<table border=\"1\" class=\"dataframe\">\n",
       "  <thead>\n",
       "    <tr style=\"text-align: right;\">\n",
       "      <th></th>\n",
       "      <th>date</th>\n",
       "      <th>Month</th>\n",
       "      <th>Year</th>\n",
       "      <th>date_block_num</th>\n",
       "      <th>week</th>\n",
       "      <th>shop_id</th>\n",
       "      <th>item_id</th>\n",
       "      <th>brand_id</th>\n",
       "      <th>item_cnt_day</th>\n",
       "      <th>item_price</th>\n",
       "      <th>discamount</th>\n",
       "      <th>promo</th>\n",
       "      <th>size_disc</th>\n",
       "      <th>promo_time</th>\n",
       "      <th>spec_promo</th>\n",
       "      <th>item_category_id</th>\n",
       "      <th>item_category</th>\n",
       "      <th>days_with_0_balance</th>\n",
       "    </tr>\n",
       "  </thead>\n",
       "  <tbody>\n",
       "    <tr>\n",
       "      <th>0</th>\n",
       "      <td>2018-01-01</td>\n",
       "      <td>1</td>\n",
       "      <td>2018</td>\n",
       "      <td>0</td>\n",
       "      <td>1</td>\n",
       "      <td>111</td>\n",
       "      <td>35852544067</td>\n",
       "      <td>10013</td>\n",
       "      <td>1</td>\n",
       "      <td>265</td>\n",
       "      <td>0</td>\n",
       "      <td>0</td>\n",
       "      <td>0</td>\n",
       "      <td>0</td>\n",
       "      <td>0</td>\n",
       "      <td>444</td>\n",
       "      <td>makeup</td>\n",
       "      <td>0</td>\n",
       "    </tr>\n",
       "    <tr>\n",
       "      <th>1</th>\n",
       "      <td>2018-01-01</td>\n",
       "      <td>1</td>\n",
       "      <td>2018</td>\n",
       "      <td>0</td>\n",
       "      <td>1</td>\n",
       "      <td>111</td>\n",
       "      <td>15793344028</td>\n",
       "      <td>10021</td>\n",
       "      <td>1</td>\n",
       "      <td>228</td>\n",
       "      <td>0</td>\n",
       "      <td>0</td>\n",
       "      <td>0</td>\n",
       "      <td>0</td>\n",
       "      <td>0</td>\n",
       "      <td>444</td>\n",
       "      <td>makeup</td>\n",
       "      <td>0</td>\n",
       "    </tr>\n",
       "    <tr>\n",
       "      <th>2</th>\n",
       "      <td>2018-01-01</td>\n",
       "      <td>1</td>\n",
       "      <td>2018</td>\n",
       "      <td>0</td>\n",
       "      <td>1</td>\n",
       "      <td>111</td>\n",
       "      <td>8221024002</td>\n",
       "      <td>10021</td>\n",
       "      <td>1</td>\n",
       "      <td>425</td>\n",
       "      <td>0</td>\n",
       "      <td>0</td>\n",
       "      <td>0</td>\n",
       "      <td>0</td>\n",
       "      <td>0</td>\n",
       "      <td>333</td>\n",
       "      <td>perfume</td>\n",
       "      <td>0</td>\n",
       "    </tr>\n",
       "    <tr>\n",
       "      <th>3</th>\n",
       "      <td>2018-01-01</td>\n",
       "      <td>1</td>\n",
       "      <td>2018</td>\n",
       "      <td>0</td>\n",
       "      <td>1</td>\n",
       "      <td>111</td>\n",
       "      <td>20221376004</td>\n",
       "      <td>10013</td>\n",
       "      <td>1</td>\n",
       "      <td>139</td>\n",
       "      <td>0</td>\n",
       "      <td>0</td>\n",
       "      <td>0</td>\n",
       "      <td>0</td>\n",
       "      <td>0</td>\n",
       "      <td>444</td>\n",
       "      <td>makeup</td>\n",
       "      <td>0</td>\n",
       "    </tr>\n",
       "    <tr>\n",
       "      <th>4</th>\n",
       "      <td>2018-01-01</td>\n",
       "      <td>1</td>\n",
       "      <td>2018</td>\n",
       "      <td>0</td>\n",
       "      <td>1</td>\n",
       "      <td>111</td>\n",
       "      <td>20221040001</td>\n",
       "      <td>10013</td>\n",
       "      <td>1</td>\n",
       "      <td>135</td>\n",
       "      <td>0</td>\n",
       "      <td>0</td>\n",
       "      <td>0</td>\n",
       "      <td>0</td>\n",
       "      <td>0</td>\n",
       "      <td>444</td>\n",
       "      <td>makeup</td>\n",
       "      <td>0</td>\n",
       "    </tr>\n",
       "  </tbody>\n",
       "</table>\n",
       "</div>"
      ],
      "text/plain": [
       "        date  Month  Year  ...  item_category_id  item_category  days_with_0_balance\n",
       "0 2018-01-01      1  2018  ...               444         makeup                    0\n",
       "1 2018-01-01      1  2018  ...               444         makeup                    0\n",
       "2 2018-01-01      1  2018  ...               333        perfume                    0\n",
       "3 2018-01-01      1  2018  ...               444         makeup                    0\n",
       "4 2018-01-01      1  2018  ...               444         makeup                    0\n",
       "\n",
       "[5 rows x 18 columns]"
      ]
     },
     "execution_count": 27,
     "metadata": {
      "tags": []
     },
     "output_type": "execute_result"
    }
   ],
   "source": [
    "# Create free list for days saving\n",
    "days = []\n",
    "\n",
    "# This code works very slow - it's because of python for cycle,\n",
    "# not pandas internal functions, or numpy arrays - using them are\n",
    "# preferable\n",
    "for i in tqdm(range(df.shape[0])):  # tqdm shows the processing of cycle\n",
    "    # Filter elements\n",
    "    store = df.iloc[i]['shop_id']\n",
    "    month = df.iloc[i]['Month']\n",
    "    year = df.iloc[i]['Year']\n",
    "    itemid = df.iloc[i]['item_id']\n",
    "    # Take value of 'days with 0 balance' column\n",
    "    day = stock_df['days with 0 balance'][  # filter values\n",
    "                    (stock_df['store'] == store) &\n",
    "                    (stock_df['month'] == month) &\n",
    "                    (stock_df['year'] == year) &\n",
    "                    (stock_df['itemid'] == itemid)]\n",
    "    # Check if day exists\n",
    "    if len(day) != 0:\n",
    "        # print(day.values[0])\n",
    "        days.append(day.values[0])\n",
    "    else:\n",
    "        # We believe that there were no days \n",
    "        # when the product was not sold\n",
    "        days.append(0)\n",
    "# Add new column to df dataframe with name 'days_with_0_balance':\n",
    "df['days_with_0_balance'] = days\n",
    "df.head(5)"
   ]
  },
  {
   "cell_type": "markdown",
   "metadata": {
    "id": "NbPQjT6xYnYg"
   },
   "source": [
    "It is not very clear, but maybe it's not a bad one idea to add a new column - number of days, last from the beggining of the year"
   ]
  },
  {
   "cell_type": "code",
   "execution_count": 28,
   "metadata": {
    "colab": {
     "base_uri": "https://localhost:8080/",
     "height": 226
    },
    "executionInfo": {
     "elapsed": 351615,
     "status": "ok",
     "timestamp": 1602370960638,
     "user": {
      "displayName": "Max Instellar",
      "photoUrl": "https://lh3.googleusercontent.com/a-/AOh14GiCPJlQRSgcV7OFsy1H9bX_BkpffnABIIypSHvJ=s64",
      "userId": "13594059136253802604"
     },
     "user_tz": -300
    },
    "id": "jYWKRdasWJH4",
    "outputId": "75f01131-673a-433c-dc60-3a6953d6c0b0"
   },
   "outputs": [
    {
     "data": {
      "text/html": [
       "<div>\n",
       "<style scoped>\n",
       "    .dataframe tbody tr th:only-of-type {\n",
       "        vertical-align: middle;\n",
       "    }\n",
       "\n",
       "    .dataframe tbody tr th {\n",
       "        vertical-align: top;\n",
       "    }\n",
       "\n",
       "    .dataframe thead th {\n",
       "        text-align: right;\n",
       "    }\n",
       "</style>\n",
       "<table border=\"1\" class=\"dataframe\">\n",
       "  <thead>\n",
       "    <tr style=\"text-align: right;\">\n",
       "      <th></th>\n",
       "      <th>date</th>\n",
       "      <th>Month</th>\n",
       "      <th>Year</th>\n",
       "      <th>date_block_num</th>\n",
       "      <th>week</th>\n",
       "      <th>shop_id</th>\n",
       "      <th>item_id</th>\n",
       "      <th>brand_id</th>\n",
       "      <th>item_cnt_day</th>\n",
       "      <th>item_price</th>\n",
       "      <th>discamount</th>\n",
       "      <th>promo</th>\n",
       "      <th>size_disc</th>\n",
       "      <th>promo_time</th>\n",
       "      <th>spec_promo</th>\n",
       "      <th>item_category_id</th>\n",
       "      <th>item_category</th>\n",
       "      <th>days_with_0_balance</th>\n",
       "      <th>days_from_beginning</th>\n",
       "    </tr>\n",
       "  </thead>\n",
       "  <tbody>\n",
       "    <tr>\n",
       "      <th>0</th>\n",
       "      <td>2018-01-01</td>\n",
       "      <td>1</td>\n",
       "      <td>2018</td>\n",
       "      <td>0</td>\n",
       "      <td>1</td>\n",
       "      <td>111</td>\n",
       "      <td>35852544067</td>\n",
       "      <td>10013</td>\n",
       "      <td>1</td>\n",
       "      <td>265</td>\n",
       "      <td>0</td>\n",
       "      <td>0</td>\n",
       "      <td>0</td>\n",
       "      <td>0</td>\n",
       "      <td>0</td>\n",
       "      <td>444</td>\n",
       "      <td>makeup</td>\n",
       "      <td>0</td>\n",
       "      <td>1</td>\n",
       "    </tr>\n",
       "    <tr>\n",
       "      <th>1</th>\n",
       "      <td>2018-01-01</td>\n",
       "      <td>1</td>\n",
       "      <td>2018</td>\n",
       "      <td>0</td>\n",
       "      <td>1</td>\n",
       "      <td>111</td>\n",
       "      <td>15793344028</td>\n",
       "      <td>10021</td>\n",
       "      <td>1</td>\n",
       "      <td>228</td>\n",
       "      <td>0</td>\n",
       "      <td>0</td>\n",
       "      <td>0</td>\n",
       "      <td>0</td>\n",
       "      <td>0</td>\n",
       "      <td>444</td>\n",
       "      <td>makeup</td>\n",
       "      <td>0</td>\n",
       "      <td>1</td>\n",
       "    </tr>\n",
       "    <tr>\n",
       "      <th>2</th>\n",
       "      <td>2018-01-01</td>\n",
       "      <td>1</td>\n",
       "      <td>2018</td>\n",
       "      <td>0</td>\n",
       "      <td>1</td>\n",
       "      <td>111</td>\n",
       "      <td>8221024002</td>\n",
       "      <td>10021</td>\n",
       "      <td>1</td>\n",
       "      <td>425</td>\n",
       "      <td>0</td>\n",
       "      <td>0</td>\n",
       "      <td>0</td>\n",
       "      <td>0</td>\n",
       "      <td>0</td>\n",
       "      <td>333</td>\n",
       "      <td>perfume</td>\n",
       "      <td>0</td>\n",
       "      <td>1</td>\n",
       "    </tr>\n",
       "    <tr>\n",
       "      <th>3</th>\n",
       "      <td>2018-01-01</td>\n",
       "      <td>1</td>\n",
       "      <td>2018</td>\n",
       "      <td>0</td>\n",
       "      <td>1</td>\n",
       "      <td>111</td>\n",
       "      <td>20221376004</td>\n",
       "      <td>10013</td>\n",
       "      <td>1</td>\n",
       "      <td>139</td>\n",
       "      <td>0</td>\n",
       "      <td>0</td>\n",
       "      <td>0</td>\n",
       "      <td>0</td>\n",
       "      <td>0</td>\n",
       "      <td>444</td>\n",
       "      <td>makeup</td>\n",
       "      <td>0</td>\n",
       "      <td>1</td>\n",
       "    </tr>\n",
       "    <tr>\n",
       "      <th>4</th>\n",
       "      <td>2018-01-01</td>\n",
       "      <td>1</td>\n",
       "      <td>2018</td>\n",
       "      <td>0</td>\n",
       "      <td>1</td>\n",
       "      <td>111</td>\n",
       "      <td>20221040001</td>\n",
       "      <td>10013</td>\n",
       "      <td>1</td>\n",
       "      <td>135</td>\n",
       "      <td>0</td>\n",
       "      <td>0</td>\n",
       "      <td>0</td>\n",
       "      <td>0</td>\n",
       "      <td>0</td>\n",
       "      <td>444</td>\n",
       "      <td>makeup</td>\n",
       "      <td>0</td>\n",
       "      <td>1</td>\n",
       "    </tr>\n",
       "  </tbody>\n",
       "</table>\n",
       "</div>"
      ],
      "text/plain": [
       "        date  Month  ...  days_with_0_balance  days_from_beginning\n",
       "0 2018-01-01      1  ...                    0                    1\n",
       "1 2018-01-01      1  ...                    0                    1\n",
       "2 2018-01-01      1  ...                    0                    1\n",
       "3 2018-01-01      1  ...                    0                    1\n",
       "4 2018-01-01      1  ...                    0                    1\n",
       "\n",
       "[5 rows x 19 columns]"
      ]
     },
     "execution_count": 28,
     "metadata": {
      "tags": []
     },
     "output_type": "execute_result"
    }
   ],
   "source": [
    "def days(date, year_num):\n",
    "    # Function to make a calculus for a day according to \n",
    "    return (date // 1000000000 - 1514764800) // 86400 + 1 - 365 * year_num\n",
    "\n",
    "# Count days for every row in a df\n",
    "days_2018 = [days(date, 0) for date in df['date'][df['Year']  == 2018].values.tolist()]\n",
    "days_2019 = [days(date, 1) for date in df['date'][df['Year']  == 2019].values.tolist()]\n",
    "days_2020 = [days(date, 2) for date in df['date'][df['Year']  == 2020].values.tolist()]\n",
    "\n",
    "# Concatenate all days values\n",
    "df['days_from_beginning'] = days_2018 + days_2019 + days_2020\n",
    "df.head(5)"
   ]
  },
  {
   "cell_type": "markdown",
   "metadata": {
    "id": "rvUILU84qt_V"
   },
   "source": [
    "Analyze discamount column - there are some values, that are below zero"
   ]
  },
  {
   "cell_type": "code",
   "execution_count": 29,
   "metadata": {
    "colab": {
     "base_uri": "https://localhost:8080/",
     "height": 86
    },
    "executionInfo": {
     "elapsed": 351612,
     "status": "ok",
     "timestamp": 1602370960639,
     "user": {
      "displayName": "Max Instellar",
      "photoUrl": "https://lh3.googleusercontent.com/a-/AOh14GiCPJlQRSgcV7OFsy1H9bX_BkpffnABIIypSHvJ=s64",
      "userId": "13594059136253802604"
     },
     "user_tz": -300
    },
    "id": "tJOX4t1xoiUD",
    "outputId": "87a49bd6-a655-4340-ad73-e8bb539dc4e6"
   },
   "outputs": [
    {
     "name": "stdout",
     "output_type": "stream",
     "text": [
      "[ -73 -111 -109  -19  -22 -160 -163 -176 -248 -101  -71 -434  -67 -325\n",
      " -128 -225 -394 -152 -310   -4 -229 -190  -79  -95 -212  -11 -230 -199\n",
      "  -50 -189 -118 -164 -150 -723 -391 -226 -235 -409 -716 -249  -62  -59\n",
      " -328 -112 -143 -308 -197]\n"
     ]
    }
   ],
   "source": [
    "print(df['discamount'][df['discamount'] < 0].unique())"
   ]
  },
  {
   "cell_type": "code",
   "execution_count": 30,
   "metadata": {
    "colab": {
     "base_uri": "https://localhost:8080/",
     "height": 34
    },
    "executionInfo": {
     "elapsed": 351607,
     "status": "ok",
     "timestamp": 1602370960640,
     "user": {
      "displayName": "Max Instellar",
      "photoUrl": "https://lh3.googleusercontent.com/a-/AOh14GiCPJlQRSgcV7OFsy1H9bX_BkpffnABIIypSHvJ=s64",
      "userId": "13594059136253802604"
     },
     "user_tz": -300
    },
    "id": "6-je_NosqECM",
    "outputId": "e84cdead-cf66-4158-c259-204c1249a9b3"
   },
   "outputs": [
    {
     "data": {
      "text/plain": [
       "58"
      ]
     },
     "execution_count": 30,
     "metadata": {
      "tags": []
     },
     "output_type": "execute_result"
    }
   ],
   "source": [
    "df['discamount'][df['discamount'] < 0].count()\n",
    "# There are only 58 values that are below zero"
   ]
  },
  {
   "cell_type": "markdown",
   "metadata": {
    "id": "ve-Oaa-spHcI"
   },
   "source": [
    "So, we can see, that a lot of values are below zero, but most of it is more than zero"
   ]
  },
  {
   "cell_type": "code",
   "execution_count": 31,
   "metadata": {
    "colab": {
     "base_uri": "https://localhost:8080/",
     "height": 181
    },
    "executionInfo": {
     "elapsed": 351917,
     "status": "ok",
     "timestamp": 1602370960955,
     "user": {
      "displayName": "Max Instellar",
      "photoUrl": "https://lh3.googleusercontent.com/a-/AOh14GiCPJlQRSgcV7OFsy1H9bX_BkpffnABIIypSHvJ=s64",
      "userId": "13594059136253802604"
     },
     "user_tz": -300
    },
    "id": "lXH1dn2un39G",
    "outputId": "d2960c78-9c69-4b58-9fc0-b70cdfa8967e"
   },
   "outputs": [
    {
     "data": {
      "text/html": [
       "<div>\n",
       "<style scoped>\n",
       "    .dataframe tbody tr th:only-of-type {\n",
       "        vertical-align: middle;\n",
       "    }\n",
       "\n",
       "    .dataframe tbody tr th {\n",
       "        vertical-align: top;\n",
       "    }\n",
       "\n",
       "    .dataframe thead th {\n",
       "        text-align: right;\n",
       "    }\n",
       "</style>\n",
       "<table border=\"1\" class=\"dataframe\">\n",
       "  <thead>\n",
       "    <tr style=\"text-align: right;\">\n",
       "      <th></th>\n",
       "      <th>date</th>\n",
       "      <th>Month</th>\n",
       "      <th>Year</th>\n",
       "      <th>date_block_num</th>\n",
       "      <th>week</th>\n",
       "      <th>shop_id</th>\n",
       "      <th>item_id</th>\n",
       "      <th>brand_id</th>\n",
       "      <th>item_cnt_day</th>\n",
       "      <th>item_price</th>\n",
       "      <th>discamount</th>\n",
       "      <th>promo</th>\n",
       "      <th>size_disc</th>\n",
       "      <th>promo_time</th>\n",
       "      <th>spec_promo</th>\n",
       "      <th>item_category_id</th>\n",
       "      <th>item_category</th>\n",
       "      <th>days_with_0_balance</th>\n",
       "      <th>days_from_beginning</th>\n",
       "      <th>sales</th>\n",
       "      <th>discamount sales</th>\n",
       "    </tr>\n",
       "  </thead>\n",
       "  <tbody>\n",
       "    <tr>\n",
       "      <th>0</th>\n",
       "      <td>2018-01-01</td>\n",
       "      <td>1</td>\n",
       "      <td>2018</td>\n",
       "      <td>0</td>\n",
       "      <td>1</td>\n",
       "      <td>111</td>\n",
       "      <td>35852544067</td>\n",
       "      <td>10013</td>\n",
       "      <td>1</td>\n",
       "      <td>265</td>\n",
       "      <td>0</td>\n",
       "      <td>0</td>\n",
       "      <td>0</td>\n",
       "      <td>0</td>\n",
       "      <td>0</td>\n",
       "      <td>444</td>\n",
       "      <td>makeup</td>\n",
       "      <td>0</td>\n",
       "      <td>1</td>\n",
       "      <td>265</td>\n",
       "      <td>265</td>\n",
       "    </tr>\n",
       "    <tr>\n",
       "      <th>1</th>\n",
       "      <td>2018-01-01</td>\n",
       "      <td>1</td>\n",
       "      <td>2018</td>\n",
       "      <td>0</td>\n",
       "      <td>1</td>\n",
       "      <td>111</td>\n",
       "      <td>15793344028</td>\n",
       "      <td>10021</td>\n",
       "      <td>1</td>\n",
       "      <td>228</td>\n",
       "      <td>0</td>\n",
       "      <td>0</td>\n",
       "      <td>0</td>\n",
       "      <td>0</td>\n",
       "      <td>0</td>\n",
       "      <td>444</td>\n",
       "      <td>makeup</td>\n",
       "      <td>0</td>\n",
       "      <td>1</td>\n",
       "      <td>228</td>\n",
       "      <td>228</td>\n",
       "    </tr>\n",
       "    <tr>\n",
       "      <th>2</th>\n",
       "      <td>2018-01-01</td>\n",
       "      <td>1</td>\n",
       "      <td>2018</td>\n",
       "      <td>0</td>\n",
       "      <td>1</td>\n",
       "      <td>111</td>\n",
       "      <td>8221024002</td>\n",
       "      <td>10021</td>\n",
       "      <td>1</td>\n",
       "      <td>425</td>\n",
       "      <td>0</td>\n",
       "      <td>0</td>\n",
       "      <td>0</td>\n",
       "      <td>0</td>\n",
       "      <td>0</td>\n",
       "      <td>333</td>\n",
       "      <td>perfume</td>\n",
       "      <td>0</td>\n",
       "      <td>1</td>\n",
       "      <td>425</td>\n",
       "      <td>425</td>\n",
       "    </tr>\n",
       "  </tbody>\n",
       "</table>\n",
       "</div>"
      ],
      "text/plain": [
       "        date  Month  Year  ...  days_from_beginning  sales  discamount sales\n",
       "0 2018-01-01      1  2018  ...                    1    265               265\n",
       "1 2018-01-01      1  2018  ...                    1    228               228\n",
       "2 2018-01-01      1  2018  ...                    1    425               425\n",
       "\n",
       "[3 rows x 21 columns]"
      ]
     },
     "execution_count": 31,
     "metadata": {
      "tags": []
     },
     "output_type": "execute_result"
    }
   ],
   "source": [
    "# Count a price \n",
    "df['sales'] = df['item_cnt_day'] * df['item_price']\n",
    "\n",
    "# Count a price with discamount\n",
    "df['discamount sales'] = df['item_cnt_day'] * df['item_price'] - df['discamount']\n",
    "\n",
    "# Show first 3 rows of dataframe\n",
    "df.head(3)"
   ]
  },
  {
   "cell_type": "code",
   "execution_count": 32,
   "metadata": {
    "executionInfo": {
     "elapsed": 351913,
     "status": "ok",
     "timestamp": 1602370960956,
     "user": {
      "displayName": "Max Instellar",
      "photoUrl": "https://lh3.googleusercontent.com/a-/AOh14GiCPJlQRSgcV7OFsy1H9bX_BkpffnABIIypSHvJ=s64",
      "userId": "13594059136253802604"
     },
     "user_tz": -300
    },
    "id": "5AUHWte3WJH8"
   },
   "outputs": [],
   "source": [
    "import jovian"
   ]
  },
  {
   "cell_type": "code",
   "execution_count": 33,
   "metadata": {
    "colab": {
     "base_uri": "https://localhost:8080/",
     "height": 105
    },
    "executionInfo": {
     "elapsed": 355246,
     "status": "ok",
     "timestamp": 1602370964293,
     "user": {
      "displayName": "Max Instellar",
      "photoUrl": "https://lh3.googleusercontent.com/a-/AOh14GiCPJlQRSgcV7OFsy1H9bX_BkpffnABIIypSHvJ=s64",
      "userId": "13594059136253802604"
     },
     "user_tz": -300
    },
    "id": "EH9Z8foWWJIA",
    "outputId": "abe9e4c7-fd14-45e9-88d7-6080d21572d3"
   },
   "outputs": [
    {
     "name": "stdout",
     "output_type": "stream",
     "text": [
      "[jovian] Detected Colab notebook...\u001b[0m\n",
      "[jovian] Uploading colab notebook to Jovian...\u001b[0m\n",
      "[jovian] Capturing environment..\u001b[0m\n",
      "[jovian] Committed successfully! https://jovian.ml/max1mka1/sales-forecast-data-exploration\u001b[0m\n"
     ]
    },
    {
     "data": {
      "application/vnd.google.colaboratory.intrinsic+json": {
       "type": "string"
      },
      "text/plain": [
       "'https://jovian.ml/max1mka1/sales-forecast-data-exploration'"
      ]
     },
     "execution_count": 33,
     "metadata": {
      "tags": []
     },
     "output_type": "execute_result"
    }
   ],
   "source": [
    "jovian.commit(project=project_name)"
   ]
  },
  {
   "cell_type": "markdown",
   "metadata": {
    "id": "64LnfWwFWJIE"
   },
   "source": [
    "## Exploratory Analysis and Visualization\n",
    "\n",
    "In a previous part we created a new dataframe, that include all the data in given files. We also added some new columns, like 'sales' column.\n",
    "In this part let's see some statistics, find out sum of discamount sales, according to years in a pieplot, graph histogram graphs and plot an correlation matrix to see all the values dependences in a dataframe."
   ]
  },
  {
   "cell_type": "markdown",
   "metadata": {
    "id": "vUYaeEu7WJIH"
   },
   "source": [
    "Let's begin by importing`matplotlib.pyplot` and `seaborn`."
   ]
  },
  {
   "cell_type": "code",
   "execution_count": 34,
   "metadata": {
    "executionInfo": {
     "elapsed": 355501,
     "status": "ok",
     "timestamp": 1602370964553,
     "user": {
      "displayName": "Max Instellar",
      "photoUrl": "https://lh3.googleusercontent.com/a-/AOh14GiCPJlQRSgcV7OFsy1H9bX_BkpffnABIIypSHvJ=s64",
      "userId": "13594059136253802604"
     },
     "user_tz": -300
    },
    "id": "Be26p_XlWJIH"
   },
   "outputs": [],
   "source": [
    "import seaborn as sns\n",
    "import matplotlib\n",
    "import matplotlib.pyplot as plt\n",
    "%matplotlib inline\n",
    "\n",
    "sns.set_style('darkgrid')\n",
    "matplotlib.rcParams['font.size'] = 14\n",
    "matplotlib.rcParams['figure.figsize'] = (9, 5)\n",
    "matplotlib.rcParams['figure.facecolor'] = '#00000000'"
   ]
  },
  {
   "cell_type": "markdown",
   "metadata": {
    "id": "NZ7TMQ32ay6G"
   },
   "source": [
    "Compute the mean, sum, range and other interesting statistics for numeric columns"
   ]
  },
  {
   "cell_type": "code",
   "execution_count": 35,
   "metadata": {
    "colab": {
     "base_uri": "https://localhost:8080/",
     "height": 121
    },
    "executionInfo": {
     "elapsed": 355498,
     "status": "ok",
     "timestamp": 1602370964555,
     "user": {
      "displayName": "Max Instellar",
      "photoUrl": "https://lh3.googleusercontent.com/a-/AOh14GiCPJlQRSgcV7OFsy1H9bX_BkpffnABIIypSHvJ=s64",
      "userId": "13594059136253802604"
     },
     "user_tz": -300
    },
    "id": "tgiKgF27zJEd",
    "outputId": "71ef0880-43fa-47b7-800b-525daab4c193"
   },
   "outputs": [
    {
     "name": "stdout",
     "output_type": "stream",
     "text": [
      "pandas mean function: 404.84280762217725\n",
      "numpy mean function: 404.84280762217725\n",
      "pandas min function: 0\n",
      "numpy min function: 0\n",
      "pandas max function: 3681\n",
      "numpy max function: 3681\n"
     ]
    }
   ],
   "source": [
    "# Extract 'item_price' data\n",
    "pd_item_price = df['item_price']\n",
    "np_item_price = np.array(df['item_price'].tolist())\n",
    "\n",
    "# Explore mean values of prices\n",
    "print(f'pandas mean function: {pd_item_price.mean()}')\n",
    "print(f'numpy mean function: {np_item_price.mean()}')\n",
    "\n",
    "# Explore min values of prices\n",
    "print(f'pandas min function: {pd_item_price.min()}')\n",
    "print(f'numpy min function: {np_item_price.min()}')\n",
    "\n",
    "# Explore max values of prices\n",
    "print(f'pandas max function: {pd_item_price.max()}')\n",
    "print(f'numpy max function: {np_item_price.max()}')"
   ]
  },
  {
   "cell_type": "markdown",
   "metadata": {
    "id": "f-07pLPj8xr_"
   },
   "source": [
    "Actually, we have great pandas function .describe() to make some basic statistics"
   ]
  },
  {
   "cell_type": "code",
   "execution_count": 36,
   "metadata": {
    "colab": {
     "base_uri": "https://localhost:8080/",
     "height": 337
    },
    "executionInfo": {
     "elapsed": 355493,
     "status": "ok",
     "timestamp": 1602370964555,
     "user": {
      "displayName": "Max Instellar",
      "photoUrl": "https://lh3.googleusercontent.com/a-/AOh14GiCPJlQRSgcV7OFsy1H9bX_BkpffnABIIypSHvJ=s64",
      "userId": "13594059136253802604"
     },
     "user_tz": -300
    },
    "id": "kPEQyJp38x3A",
    "outputId": "a8e5d7ee-80cd-4c37-affb-e13c872c5a73"
   },
   "outputs": [
    {
     "data": {
      "text/html": [
       "<div>\n",
       "<style scoped>\n",
       "    .dataframe tbody tr th:only-of-type {\n",
       "        vertical-align: middle;\n",
       "    }\n",
       "\n",
       "    .dataframe tbody tr th {\n",
       "        vertical-align: top;\n",
       "    }\n",
       "\n",
       "    .dataframe thead th {\n",
       "        text-align: right;\n",
       "    }\n",
       "</style>\n",
       "<table border=\"1\" class=\"dataframe\">\n",
       "  <thead>\n",
       "    <tr style=\"text-align: right;\">\n",
       "      <th></th>\n",
       "      <th>Month</th>\n",
       "      <th>Year</th>\n",
       "      <th>date_block_num</th>\n",
       "      <th>week</th>\n",
       "      <th>shop_id</th>\n",
       "      <th>item_id</th>\n",
       "      <th>brand_id</th>\n",
       "      <th>item_cnt_day</th>\n",
       "      <th>item_price</th>\n",
       "      <th>discamount</th>\n",
       "      <th>promo</th>\n",
       "      <th>size_disc</th>\n",
       "      <th>promo_time</th>\n",
       "      <th>spec_promo</th>\n",
       "      <th>item_category_id</th>\n",
       "      <th>days_with_0_balance</th>\n",
       "      <th>days_from_beginning</th>\n",
       "      <th>sales</th>\n",
       "      <th>discamount sales</th>\n",
       "    </tr>\n",
       "  </thead>\n",
       "  <tbody>\n",
       "    <tr>\n",
       "      <th>count</th>\n",
       "      <td>99814.000000</td>\n",
       "      <td>99814.000000</td>\n",
       "      <td>99814.000000</td>\n",
       "      <td>99814.000000</td>\n",
       "      <td>99814.000000</td>\n",
       "      <td>9.981400e+04</td>\n",
       "      <td>99814.000000</td>\n",
       "      <td>99814.000000</td>\n",
       "      <td>99814.000000</td>\n",
       "      <td>99814.000000</td>\n",
       "      <td>99814.000000</td>\n",
       "      <td>99814.000000</td>\n",
       "      <td>99814.000000</td>\n",
       "      <td>99814.000000</td>\n",
       "      <td>99814.000000</td>\n",
       "      <td>99814.000000</td>\n",
       "      <td>99814.000000</td>\n",
       "      <td>99814.000000</td>\n",
       "      <td>99814.000000</td>\n",
       "    </tr>\n",
       "    <tr>\n",
       "      <th>mean</th>\n",
       "      <td>6.308584</td>\n",
       "      <td>2018.726251</td>\n",
       "      <td>14.023594</td>\n",
       "      <td>64.233334</td>\n",
       "      <td>115.671749</td>\n",
       "      <td>1.877684e+10</td>\n",
       "      <td>10017.740016</td>\n",
       "      <td>1.054712</td>\n",
       "      <td>404.842808</td>\n",
       "      <td>88.029315</td>\n",
       "      <td>0.439217</td>\n",
       "      <td>19.864698</td>\n",
       "      <td>4.801320</td>\n",
       "      <td>0.068858</td>\n",
       "      <td>488.776324</td>\n",
       "      <td>1.176398</td>\n",
       "      <td>176.897940</td>\n",
       "      <td>422.925301</td>\n",
       "      <td>334.895987</td>\n",
       "    </tr>\n",
       "    <tr>\n",
       "      <th>std</th>\n",
       "      <td>3.694841</td>\n",
       "      <td>0.665695</td>\n",
       "      <td>7.482713</td>\n",
       "      <td>33.141317</td>\n",
       "      <td>7.951575</td>\n",
       "      <td>8.779890e+09</td>\n",
       "      <td>3.930971</td>\n",
       "      <td>0.534787</td>\n",
       "      <td>257.717373</td>\n",
       "      <td>131.061558</td>\n",
       "      <td>0.496294</td>\n",
       "      <td>22.746946</td>\n",
       "      <td>9.062332</td>\n",
       "      <td>0.253214</td>\n",
       "      <td>71.130722</td>\n",
       "      <td>3.425612</td>\n",
       "      <td>113.303745</td>\n",
       "      <td>359.838494</td>\n",
       "      <td>330.678741</td>\n",
       "    </tr>\n",
       "    <tr>\n",
       "      <th>min</th>\n",
       "      <td>1.000000</td>\n",
       "      <td>2018.000000</td>\n",
       "      <td>0.000000</td>\n",
       "      <td>1.000000</td>\n",
       "      <td>110.000000</td>\n",
       "      <td>7.851312e+09</td>\n",
       "      <td>10013.000000</td>\n",
       "      <td>-4.000000</td>\n",
       "      <td>0.000000</td>\n",
       "      <td>-723.000000</td>\n",
       "      <td>0.000000</td>\n",
       "      <td>0.000000</td>\n",
       "      <td>0.000000</td>\n",
       "      <td>0.000000</td>\n",
       "      <td>0.000000</td>\n",
       "      <td>0.000000</td>\n",
       "      <td>1.000000</td>\n",
       "      <td>-3680.000000</td>\n",
       "      <td>-3680.000000</td>\n",
       "    </tr>\n",
       "    <tr>\n",
       "      <th>25%</th>\n",
       "      <td>3.000000</td>\n",
       "      <td>2018.000000</td>\n",
       "      <td>8.000000</td>\n",
       "      <td>38.000000</td>\n",
       "      <td>110.000000</td>\n",
       "      <td>1.582874e+10</td>\n",
       "      <td>10013.000000</td>\n",
       "      <td>1.000000</td>\n",
       "      <td>253.000000</td>\n",
       "      <td>0.000000</td>\n",
       "      <td>0.000000</td>\n",
       "      <td>0.000000</td>\n",
       "      <td>0.000000</td>\n",
       "      <td>0.000000</td>\n",
       "      <td>444.000000</td>\n",
       "      <td>0.000000</td>\n",
       "      <td>68.000000</td>\n",
       "      <td>245.000000</td>\n",
       "      <td>165.000000</td>\n",
       "    </tr>\n",
       "    <tr>\n",
       "      <th>50%</th>\n",
       "      <td>6.000000</td>\n",
       "      <td>2019.000000</td>\n",
       "      <td>14.000000</td>\n",
       "      <td>64.000000</td>\n",
       "      <td>111.000000</td>\n",
       "      <td>1.692421e+10</td>\n",
       "      <td>10021.000000</td>\n",
       "      <td>1.000000</td>\n",
       "      <td>336.000000</td>\n",
       "      <td>0.000000</td>\n",
       "      <td>0.000000</td>\n",
       "      <td>0.000000</td>\n",
       "      <td>0.000000</td>\n",
       "      <td>0.000000</td>\n",
       "      <td>444.000000</td>\n",
       "      <td>0.000000</td>\n",
       "      <td>168.000000</td>\n",
       "      <td>342.000000</td>\n",
       "      <td>270.000000</td>\n",
       "    </tr>\n",
       "    <tr>\n",
       "      <th>75%</th>\n",
       "      <td>10.000000</td>\n",
       "      <td>2019.000000</td>\n",
       "      <td>21.000000</td>\n",
       "      <td>93.000000</td>\n",
       "      <td>128.000000</td>\n",
       "      <td>1.702434e+10</td>\n",
       "      <td>10021.000000</td>\n",
       "      <td>1.000000</td>\n",
       "      <td>491.000000</td>\n",
       "      <td>150.000000</td>\n",
       "      <td>1.000000</td>\n",
       "      <td>45.000000</td>\n",
       "      <td>3.000000</td>\n",
       "      <td>0.000000</td>\n",
       "      <td>555.000000</td>\n",
       "      <td>1.000000</td>\n",
       "      <td>283.000000</td>\n",
       "      <td>513.000000</td>\n",
       "      <td>420.000000</td>\n",
       "    </tr>\n",
       "    <tr>\n",
       "      <th>max</th>\n",
       "      <td>12.000000</td>\n",
       "      <td>2020.000000</td>\n",
       "      <td>26.000000</td>\n",
       "      <td>120.000000</td>\n",
       "      <td>128.000000</td>\n",
       "      <td>9.003758e+10</td>\n",
       "      <td>10021.000000</td>\n",
       "      <td>22.000000</td>\n",
       "      <td>3681.000000</td>\n",
       "      <td>1841.000000</td>\n",
       "      <td>1.000000</td>\n",
       "      <td>50.000000</td>\n",
       "      <td>29.000000</td>\n",
       "      <td>1.000000</td>\n",
       "      <td>666.000000</td>\n",
       "      <td>31.000000</td>\n",
       "      <td>365.000000</td>\n",
       "      <td>16346.000000</td>\n",
       "      <td>15974.000000</td>\n",
       "    </tr>\n",
       "  </tbody>\n",
       "</table>\n",
       "</div>"
      ],
      "text/plain": [
       "              Month          Year  ...         sales  discamount sales\n",
       "count  99814.000000  99814.000000  ...  99814.000000      99814.000000\n",
       "mean       6.308584   2018.726251  ...    422.925301        334.895987\n",
       "std        3.694841      0.665695  ...    359.838494        330.678741\n",
       "min        1.000000   2018.000000  ...  -3680.000000      -3680.000000\n",
       "25%        3.000000   2018.000000  ...    245.000000        165.000000\n",
       "50%        6.000000   2019.000000  ...    342.000000        270.000000\n",
       "75%       10.000000   2019.000000  ...    513.000000        420.000000\n",
       "max       12.000000   2020.000000  ...  16346.000000      15974.000000\n",
       "\n",
       "[8 rows x 19 columns]"
      ]
     },
     "execution_count": 36,
     "metadata": {
      "tags": []
     },
     "output_type": "execute_result"
    }
   ],
   "source": [
    "df.describe()"
   ]
  },
  {
   "cell_type": "markdown",
   "metadata": {
    "id": "RSyRgJi4WJIL"
   },
   "source": [
    "**TODO** - Explore one or more columns by plotting a graph below, and add some explanation about it"
   ]
  },
  {
   "cell_type": "code",
   "execution_count": 37,
   "metadata": {
    "colab": {
     "base_uri": "https://localhost:8080/",
     "height": 355
    },
    "executionInfo": {
     "elapsed": 356028,
     "status": "ok",
     "timestamp": 1602370965095,
     "user": {
      "displayName": "Max Instellar",
      "photoUrl": "https://lh3.googleusercontent.com/a-/AOh14GiCPJlQRSgcV7OFsy1H9bX_BkpffnABIIypSHvJ=s64",
      "userId": "13594059136253802604"
     },
     "user_tz": -300
    },
    "id": "6ZCyQZtxaw3J",
    "outputId": "8cc7f955-504a-4369-f2e6-da5743232b81"
   },
   "outputs": [
    {
     "data": {
      "image/png": "[encoded data removed]",
      "text/plain": [
       "<Figure size 864x576 with 2 Axes>"
      ]
     },
     "metadata": {
      "tags": []
     },
     "output_type": "display_data"
    }
   ],
   "source": [
    "df_pie = df.groupby('Year')[['discamount sales', \n",
    "                             'days_with_0_balance']].sum()\n",
    "\n",
    "# Make the plot with pandas\n",
    "df_pie.plot(kind='pie', subplots=True, figsize=(12, 8))\n",
    "plt.title(\"Summ of discamount sales, according to Years\")\n",
    "plt.show()"
   ]
  },
  {
   "cell_type": "markdown",
   "metadata": {
    "id": "CbSr4O5LttM3"
   },
   "source": [
    "We can say that total sales in 2019 more then in a 2018. According to 'days_with_0_balance' it can be say that in 2019 there were more days with zero balance"
   ]
  },
  {
   "cell_type": "code",
   "execution_count": 38,
   "metadata": {
    "colab": {
     "base_uri": "https://localhost:8080/",
     "height": 355
    },
    "executionInfo": {
     "elapsed": 356778,
     "status": "ok",
     "timestamp": 1602370965849,
     "user": {
      "displayName": "Max Instellar",
      "photoUrl": "https://lh3.googleusercontent.com/a-/AOh14GiCPJlQRSgcV7OFsy1H9bX_BkpffnABIIypSHvJ=s64",
      "userId": "13594059136253802604"
     },
     "user_tz": -300
    },
    "id": "I_JBaMNS0PKm",
    "outputId": "cafb84d4-568a-41c4-d896-9732b9027d2c"
   },
   "outputs": [
    {
     "data": {
      "image/png": "[encoded data removed]",
      "text/plain": [
       "<Figure size 864x576 with 2 Axes>"
      ]
     },
     "metadata": {
      "tags": []
     },
     "output_type": "display_data"
    }
   ],
   "source": [
    "# Form a dataframe using .groupby() method\n",
    "df_pie_shop_id = df.groupby('shop_id')[['discamount sales', \n",
    "                                'days_with_0_balance']].sum()\n",
    "# A groupby() pandas method is used when we need to group\n",
    "# large amounts of data and compute some operations on these groups\n",
    "\n",
    "\n",
    "# Make the plot with pandas\n",
    "df_pie_shop_id.plot(kind='pie', subplots=True, figsize=(12, 8))\n",
    "plt.title(\"Sum of 'discamount sales' and 'days_with_0_balance', according to shop_id\")\n",
    "plt.show()"
   ]
  },
  {
   "cell_type": "markdown",
   "metadata": {
    "id": "fbQUFAtD2oKD"
   },
   "source": [
    "So, 'discamount sales' are almost equals for all stores"
   ]
  },
  {
   "cell_type": "markdown",
   "metadata": {
    "id": "4nQWiaJdWJIV"
   },
   "source": [
    "**TODO** - Explore one or more columns by plotting a graph below, and add some explanation about it"
   ]
  },
  {
   "cell_type": "markdown",
   "metadata": {
    "id": "h9i2Op6clssc"
   },
   "source": [
    "Let's look at the values of Item_cnt_day – the number of sales in pieces. 20 unique values:"
   ]
  },
  {
   "cell_type": "code",
   "execution_count": 39,
   "metadata": {
    "colab": {
     "base_uri": "https://localhost:8080/",
     "height": 34
    },
    "executionInfo": {
     "elapsed": 356774,
     "status": "ok",
     "timestamp": 1602370965849,
     "user": {
      "displayName": "Max Instellar",
      "photoUrl": "https://lh3.googleusercontent.com/a-/AOh14GiCPJlQRSgcV7OFsy1H9bX_BkpffnABIIypSHvJ=s64",
      "userId": "13594059136253802604"
     },
     "user_tz": -300
    },
    "id": "DAPdDMs8WJIM",
    "outputId": "49232da9-d3cd-4adf-9483-457273ed4ba1"
   },
   "outputs": [
    {
     "data": {
      "text/plain": [
       "[1, 2, 3, 4, 6, 7, 9, 5, -1, 0, 8, -2, -3, -4, 10, 11, 18, 13, 15, 22]"
      ]
     },
     "execution_count": 39,
     "metadata": {
      "tags": []
     },
     "output_type": "execute_result"
    }
   ],
   "source": [
    "df['item_cnt_day'].unique().tolist()"
   ]
  },
  {
   "cell_type": "markdown",
   "metadata": {
    "id": "0Ns3223Il15o"
   },
   "source": [
    "The data contains negative values - apparently, these are product returns, since the number of sales is a non - negative value."
   ]
  },
  {
   "cell_type": "code",
   "execution_count": 40,
   "metadata": {
    "colab": {
     "base_uri": "https://localhost:8080/",
     "height": 487
    },
    "executionInfo": {
     "elapsed": 356763,
     "status": "ok",
     "timestamp": 1602370965849,
     "user": {
      "displayName": "Max Instellar",
      "photoUrl": "https://lh3.googleusercontent.com/a-/AOh14GiCPJlQRSgcV7OFsy1H9bX_BkpffnABIIypSHvJ=s64",
      "userId": "13594059136253802604"
     },
     "user_tz": -300
    },
    "id": "_yLcaW_GWJIR",
    "outputId": "948dacf8-c3b1-41d1-8f70-120a844479f1"
   },
   "outputs": [
    {
     "data": {
      "image/png": "[encoded data removed]",
      "text/plain": [
       "<Figure size 576x576 with 1 Axes>"
      ]
     },
     "metadata": {
      "needs_background": "light",
      "tags": []
     },
     "output_type": "display_data"
    }
   ],
   "source": [
    "df['item_cnt_day'][df['brand_id'] == 10013].hist(figsize=(8, 8));"
   ]
  },
  {
   "cell_type": "markdown",
   "metadata": {
    "id": "W4CWmkXRmLLe"
   },
   "source": [
    "So, we can see that most part of days items did not sale in a 10013 store"
   ]
  },
  {
   "cell_type": "markdown",
   "metadata": {
    "id": "4bh4o-9zWJIl"
   },
   "source": [
    "**TODO** - Explore one or more columns by plotting a graph below, and add some explanation about it"
   ]
  },
  {
   "cell_type": "markdown",
   "metadata": {
    "id": "rpogrCjs8gfo"
   },
   "source": [
    "Plot the barplot graph for brand 10013 for 'Month'"
   ]
  },
  {
   "cell_type": "code",
   "execution_count": 41,
   "metadata": {
    "colab": {
     "base_uri": "https://localhost:8080/",
     "height": 487
    },
    "executionInfo": {
     "elapsed": 357094,
     "status": "ok",
     "timestamp": 1602370966185,
     "user": {
      "displayName": "Max Instellar",
      "photoUrl": "https://lh3.googleusercontent.com/a-/AOh14GiCPJlQRSgcV7OFsy1H9bX_BkpffnABIIypSHvJ=s64",
      "userId": "13594059136253802604"
     },
     "user_tz": -300
    },
    "id": "vWVK0NykWJIa",
    "outputId": "ff1e7aab-4f78-469f-883a-816e2b818079"
   },
   "outputs": [
    {
     "data": {
      "image/png": "[encoded data removed]",
      "text/plain": [
       "<Figure size 576x576 with 1 Axes>"
      ]
     },
     "metadata": {
      "needs_background": "light",
      "tags": []
     },
     "output_type": "display_data"
    }
   ],
   "source": [
    "df['Month'][df['brand_id'] == 10013].hist(figsize=(8, 8));"
   ]
  },
  {
   "cell_type": "markdown",
   "metadata": {
    "id": "201cmge68vvi"
   },
   "source": [
    "So, least of all sales in a 'July' month, and the most sales are in the winter. The period of occurrence of seasonal fluctuations is more often predicted, and it is influenced by:\n",
    "\n",
    "\n",
    "*   New year, Christmas, March 8, may and other holidays.\n",
    "*   In summer, demand is minimal, which is associated with the peak of vacations;\n",
    "*   Average age, characteristics of the target audience."
   ]
  },
  {
   "cell_type": "markdown",
   "metadata": {
    "id": "Bc2p3fedWJId"
   },
   "source": [
    "**TODO** - Explore one or more columns by plotting a graph below, and add some explanation about it"
   ]
  },
  {
   "cell_type": "code",
   "execution_count": 42,
   "metadata": {
    "colab": {
     "base_uri": "https://localhost:8080/",
     "height": 344
    },
    "executionInfo": {
     "elapsed": 357091,
     "status": "ok",
     "timestamp": 1602370966187,
     "user": {
      "displayName": "Max Instellar",
      "photoUrl": "https://lh3.googleusercontent.com/a-/AOh14GiCPJlQRSgcV7OFsy1H9bX_BkpffnABIIypSHvJ=s64",
      "userId": "13594059136253802604"
     },
     "user_tz": -300
    },
    "id": "rf4BS6RIWJIi",
    "outputId": "bf2c73d5-76b8-4296-f8d9-982183a272f9"
   },
   "outputs": [
    {
     "data": {
      "image/png": "[encoded data removed]",
      "text/plain": [
       "<Figure size 648x360 with 1 Axes>"
      ]
     },
     "metadata": {
      "needs_background": "light",
      "tags": []
     },
     "output_type": "display_data"
    }
   ],
   "source": [
    "# Explore relationship between columns using scatter plots, bar charts etc.\n",
    "\n",
    "sns.boxplot(data=df, x='item_category_id', y=\"promo_time\");"
   ]
  },
  {
   "cell_type": "markdown",
   "metadata": {
    "id": "n53Q666dIbC2"
   },
   "source": [
    "Here's what the boxplot shows:\n",
    "\n",
    "The Median is the value of the element in the center of the ranked row.\n",
    "For example, if you put all octopuses in ascending order of their ratings, the median will be the rating that the octopus put in the middle. This means that half of the octopuses on the right rated the probability of buying lower, and the other half (on the left) higher than the median.\n",
    "\n",
    "The upper quartile is a score above which only 25% of the scores are higher.\n",
    "The lower quartile is a value below which only 25% of estimates are made.\n",
    "The interquartile range (IQR) is the difference between 75% and 25% quartile. Within this range lies 50% of observations. If the range is narrow (as in the case of octopuses), then the members of the subgroup are unanimous in their assessments. If it is wide, it means that there is no uniform opinion (as in chickens).\n",
    "\n",
    "Outliers are atypical observations. What exactly is considered atypical? Those estimates that go beyond:\n",
    "\n",
    "values of 25% percentile minus 1.5 x IQR\n",
    "values of 75% percentile plus 1.5 x IQR"
   ]
  },
  {
   "cell_type": "markdown",
   "metadata": {
    "id": "CjhvKjrqxliC"
   },
   "source": [
    "From the boxplot it is clear, that promo time depends on 'item_category_id'."
   ]
  },
  {
   "cell_type": "code",
   "execution_count": 43,
   "metadata": {
    "colab": {
     "base_uri": "https://localhost:8080/",
     "height": 326
    },
    "executionInfo": {
     "elapsed": 357391,
     "status": "ok",
     "timestamp": 1602370966491,
     "user": {
      "displayName": "Max Instellar",
      "photoUrl": "https://lh3.googleusercontent.com/a-/AOh14GiCPJlQRSgcV7OFsy1H9bX_BkpffnABIIypSHvJ=s64",
      "userId": "13594059136253802604"
     },
     "user_tz": -300
    },
    "id": "YmXoT6QGxEND",
    "outputId": "e1415e56-bbe2-483b-e957-64dc38d2adfb"
   },
   "outputs": [
    {
     "data": {
      "image/png": "[encoded data removed]",
      "text/plain": [
       "<Figure size 648x360 with 1 Axes>"
      ]
     },
     "metadata": {
      "needs_background": "light",
      "tags": []
     },
     "output_type": "display_data"
    }
   ],
   "source": [
    "df[[\"promo_time\"]].plot(kind='box');"
   ]
  },
  {
   "cell_type": "markdown",
   "metadata": {
    "id": "cW0E-1eYWJIt"
   },
   "source": [
    "**TODO** - Explore one or more columns by plotting a graph below, and add some explanation about it"
   ]
  },
  {
   "cell_type": "code",
   "execution_count": 44,
   "metadata": {
    "executionInfo": {
     "elapsed": 357387,
     "status": "ok",
     "timestamp": 1602370966492,
     "user": {
      "displayName": "Max Instellar",
      "photoUrl": "https://lh3.googleusercontent.com/a-/AOh14GiCPJlQRSgcV7OFsy1H9bX_BkpffnABIIypSHvJ=s64",
      "userId": "13594059136253802604"
     },
     "user_tz": -300
    },
    "id": "eLTByIZvWJIt"
   },
   "outputs": [],
   "source": [
    "# Use the built-in corr method()\n",
    "corr_matrix = df.corr()"
   ]
  },
  {
   "cell_type": "markdown",
   "metadata": {
    "id": "vpqg7Nynn4me"
   },
   "source": [
    "Let's look at the Pearson correlation matrix, which is a measure of the degree and positivity of linear relationships between two variables. A value of +1 indicates a direct proportionality between the feature values. If the value is -1, on the contrary, there is a correlation, but with a negative coefficient:"
   ]
  },
  {
   "cell_type": "code",
   "execution_count": 45,
   "metadata": {
    "colab": {
     "base_uri": "https://localhost:8080/",
     "height": 812
    },
    "executionInfo": {
     "elapsed": 359495,
     "status": "ok",
     "timestamp": 1602370968604,
     "user": {
      "displayName": "Max Instellar",
      "photoUrl": "https://lh3.googleusercontent.com/a-/AOh14GiCPJlQRSgcV7OFsy1H9bX_BkpffnABIIypSHvJ=s64",
      "userId": "13594059136253802604"
     },
     "user_tz": -300
    },
    "id": "F8A22JuWWJIv",
    "outputId": "c6e83b09-b51d-427c-b827-e63e194b0bb1"
   },
   "outputs": [
    {
     "data": {
      "image/png": "[encoded data removed]",
      "text/plain": [
       "<Figure size 1200x840 with 2 Axes>"
      ]
     },
     "metadata": {
      "needs_background": "light",
      "tags": []
     },
     "output_type": "display_data"
    }
   ],
   "source": [
    "# Pearson graph parameters\n",
    "plt.figure(figsize=(20,14), dpi=60)\n",
    "sns.heatmap(corr_matrix, \n",
    "            xticklabels=corr_matrix.columns, \n",
    "            yticklabels=corr_matrix.columns, \n",
    "            cmap='RdYlGn', \n",
    "            center=0, \n",
    "            annot=True)\n",
    "\n",
    "# Specify additional parameters (the size of the text, the title, and the title itself)\n",
    "plt.title('The correlation matrix for the parameters data table', fontsize=20)\n",
    "plt.xticks(fontsize=14)\n",
    "plt.yticks(fontsize=14)\n",
    "plt.show();"
   ]
  },
  {
   "cell_type": "markdown",
   "metadata": {
    "id": "SbNGrghsnvml"
   },
   "source": [
    "Of course, it would be more correct to build a heatmap for each pair (store, product), which shows how many units of the product were sold during the entire time."
   ]
  },
  {
   "cell_type": "markdown",
   "metadata": {
    "id": "fWV0qbIP4-RC"
   },
   "source": [
    "From the correlation table, we can see that the duration of the promo_time discount depends quite strongly on the size of the size_disc (0.61) discount. Also see that having a discount promo (0.71), the value of the discount size_disc (0.72), and duration of action discounts promo_time (0.46) depend on the size of the discount discamount, and is, in principle, so understood that they are interrelated, although the dependence of the duration of the sale size is not obvious. There is also a good correlation of the duration of the promotion from the month (0.58) and slightly less from the day of the week (0.29). This may be due to holidays (new year's), weekends/Fridays, or the holiday period (less people started buying certain products) or seasonality (tanning products are unlikely to be actively bought in the winter, except for those who are going on vacation at this time). Of the negative correlations, the most notable is the dependence of the availability of the promotion on the promo product with a special discount spec_promo (-0.24), that is, the product participating in the simple action cannot participate in the promo action."
   ]
  },
  {
   "cell_type": "markdown",
   "metadata": {
    "id": "KAWYEKviWJIz"
   },
   "source": [
    "Let us save and upload our work to Jovian before continuing"
   ]
  },
  {
   "cell_type": "code",
   "execution_count": 46,
   "metadata": {
    "executionInfo": {
     "elapsed": 359491,
     "status": "ok",
     "timestamp": 1602370968605,
     "user": {
      "displayName": "Max Instellar",
      "photoUrl": "https://lh3.googleusercontent.com/a-/AOh14GiCPJlQRSgcV7OFsy1H9bX_BkpffnABIIypSHvJ=s64",
      "userId": "13594059136253802604"
     },
     "user_tz": -300
    },
    "id": "lsLmvgeRWJIz"
   },
   "outputs": [],
   "source": [
    "import jovian"
   ]
  },
  {
   "cell_type": "code",
   "execution_count": 47,
   "metadata": {
    "colab": {
     "base_uri": "https://localhost:8080/",
     "height": 105
    },
    "executionInfo": {
     "elapsed": 361825,
     "status": "ok",
     "timestamp": 1602370970943,
     "user": {
      "displayName": "Max Instellar",
      "photoUrl": "https://lh3.googleusercontent.com/a-/AOh14GiCPJlQRSgcV7OFsy1H9bX_BkpffnABIIypSHvJ=s64",
      "userId": "13594059136253802604"
     },
     "user_tz": -300
    },
    "id": "u8rKQ43UWJI3",
    "outputId": "4490d844-ae2a-44e8-d55b-41dec74a48a4"
   },
   "outputs": [
    {
     "name": "stdout",
     "output_type": "stream",
     "text": [
      "[jovian] Detected Colab notebook...\u001b[0m\n",
      "[jovian] Uploading colab notebook to Jovian...\u001b[0m\n",
      "[jovian] Capturing environment..\u001b[0m\n",
      "[jovian] Committed successfully! https://jovian.ml/max1mka1/sales-forecast-data-exploration\u001b[0m\n"
     ]
    },
    {
     "data": {
      "application/vnd.google.colaboratory.intrinsic+json": {
       "type": "string"
      },
      "text/plain": [
       "'https://jovian.ml/max1mka1/sales-forecast-data-exploration'"
      ]
     },
     "execution_count": 47,
     "metadata": {
      "tags": []
     },
     "output_type": "execute_result"
    }
   ],
   "source": [
    "jovian.commit(project=project_name)"
   ]
  },
  {
   "cell_type": "markdown",
   "metadata": {
    "id": "ZaKOqc5xWJI7"
   },
   "source": [
    "## Asking and Answering Questions\n",
    "\n",
    "TODO - write some explanation here.\n",
    "\n"
   ]
  },
  {
   "cell_type": "markdown",
   "metadata": {
    "id": "3cNncAgvWJI-"
   },
   "source": [
    "#### Q1: What was the best month for sales in 2018? How much money was earned that month?"
   ]
  },
  {
   "cell_type": "code",
   "execution_count": 48,
   "metadata": {
    "colab": {
     "base_uri": "https://localhost:8080/",
     "height": 260
    },
    "executionInfo": {
     "elapsed": 361819,
     "status": "ok",
     "timestamp": 1602370970943,
     "user": {
      "displayName": "Max Instellar",
      "photoUrl": "https://lh3.googleusercontent.com/a-/AOh14GiCPJlQRSgcV7OFsy1H9bX_BkpffnABIIypSHvJ=s64",
      "userId": "13594059136253802604"
     },
     "user_tz": -300
    },
    "id": "EIP9oeA_WJI-",
    "outputId": "6c143b54-11b3-477a-e680-17d168fe3cd3"
   },
   "outputs": [
    {
     "data": {
      "text/plain": [
       "Month\n",
       "1      968754\n",
       "2      874416\n",
       "3     1456542\n",
       "4     1112879\n",
       "5      936021\n",
       "6      945999\n",
       "7      923935\n",
       "8      917823\n",
       "9     2424834\n",
       "10    1776066\n",
       "11    2253456\n",
       "12    2667638\n",
       "Name: sales, dtype: int64"
      ]
     },
     "execution_count": 48,
     "metadata": {
      "tags": []
     },
     "output_type": "execute_result"
    }
   ],
   "source": [
    "# What was the best month for sales in 2018? \n",
    "# How much money was earned that month?\n",
    "\n",
    "df_2018 = df[df['Year'] == 2018].copy()\n",
    "best_months_2018 = df_2018.groupby('Month')['sales'].sum()\n",
    "best_months_2018"
   ]
  },
  {
   "cell_type": "code",
   "execution_count": 49,
   "metadata": {
    "colab": {
     "base_uri": "https://localhost:8080/",
     "height": 52
    },
    "executionInfo": {
     "elapsed": 361816,
     "status": "ok",
     "timestamp": 1602370970944,
     "user": {
      "displayName": "Max Instellar",
      "photoUrl": "https://lh3.googleusercontent.com/a-/AOh14GiCPJlQRSgcV7OFsy1H9bX_BkpffnABIIypSHvJ=s64",
      "userId": "13594059136253802604"
     },
     "user_tz": -300
    },
    "id": "5OiQ_ktZJf8J",
    "outputId": "7ddc6b74-3957-40ef-f6df-2c6e32d8dd20"
   },
   "outputs": [
    {
     "name": "stdout",
     "output_type": "stream",
     "text": [
      "Max profit was on 12s moth - it's December\n",
      "And the profit was 2667638 roubles, that is about 29640$ in December, 2018\n"
     ]
    }
   ],
   "source": [
    "print(f\"Max profit was on {best_months_2018.index.max()}s moth - it's December\")\n",
    "print(f\"And the profit was {best_months_2018.max()} roubles, that is about {best_months_2018.max() // 90}$ in December, 2018\")"
   ]
  },
  {
   "cell_type": "code",
   "execution_count": 50,
   "metadata": {
    "colab": {
     "base_uri": "https://localhost:8080/",
     "height": 355
    },
    "executionInfo": {
     "elapsed": 362466,
     "status": "ok",
     "timestamp": 1602370971598,
     "user": {
      "displayName": "Max Instellar",
      "photoUrl": "https://lh3.googleusercontent.com/a-/AOh14GiCPJlQRSgcV7OFsy1H9bX_BkpffnABIIypSHvJ=s64",
      "userId": "13594059136253802604"
     },
     "user_tz": -300
    },
    "id": "fIu9hZvwWJJC",
    "outputId": "8af3eab3-422c-466c-ed48-ef4931bcf3df"
   },
   "outputs": [
    {
     "name": "stdout",
     "output_type": "stream",
     "text": [
      "[ 1  2  3  4  5  6  7  8  9 10 11 12]\n"
     ]
    },
    {
     "data": {
      "image/png": "[encoded data removed]",
      "text/plain": [
       "<Figure size 648x360 with 1 Axes>"
      ]
     },
     "metadata": {
      "needs_background": "light",
      "tags": []
     },
     "output_type": "display_data"
    }
   ],
   "source": [
    "# make values for month using numpy arange() method\n",
    "months = np.arange(1, 13, 1)\n",
    "print(months)\n",
    "\n",
    "plt.bar(months, best_months_2018.tolist());"
   ]
  },
  {
   "cell_type": "markdown",
   "metadata": {
    "id": "VVWg9biqWJJH"
   },
   "source": [
    "#### Q2: What are new products wich were added in 2019 year? What are products id's and the number of products that are no longer available in 2019"
   ]
  },
  {
   "cell_type": "code",
   "execution_count": 51,
   "metadata": {
    "executionInfo": {
     "elapsed": 362462,
     "status": "ok",
     "timestamp": 1602370971599,
     "user": {
      "displayName": "Max Instellar",
      "photoUrl": "https://lh3.googleusercontent.com/a-/AOh14GiCPJlQRSgcV7OFsy1H9bX_BkpffnABIIypSHvJ=s64",
      "userId": "13594059136253802604"
     },
     "user_tz": -300
    },
    "id": "0L6Hcrh8WJJH"
   },
   "outputs": [],
   "source": [
    "# List unique goods items in 2018 and 2019 years\n",
    "items_count_in_2018 = set(df['item_id'][df['Year'] == 2018].unique().tolist())\n",
    "items_count_in_2019 = set(df['item_id'][df['Year'] == 2019].unique().tolist())"
   ]
  },
  {
   "cell_type": "code",
   "execution_count": 52,
   "metadata": {
    "colab": {
     "base_uri": "https://localhost:8080/",
     "height": 72
    },
    "executionInfo": {
     "elapsed": 362458,
     "status": "ok",
     "timestamp": 1602370971600,
     "user": {
      "displayName": "Max Instellar",
      "photoUrl": "https://lh3.googleusercontent.com/a-/AOh14GiCPJlQRSgcV7OFsy1H9bX_BkpffnABIIypSHvJ=s64",
      "userId": "13594059136253802604"
     },
     "user_tz": -300
    },
    "id": "7Q5rVpY2WJJK",
    "outputId": "7b680386-33b3-400e-a44b-3fd91e09a275"
   },
   "outputs": [
    {
     "name": "stdout",
     "output_type": "stream",
     "text": [
      "In 2019 were added 223 new products\n",
      "Theese are products with id: {20225856001, 20225856002, 20224960003, 20223168004, 20224064003, 20225856003, 15819328007, 15819328008, 15836352008, 15836352007, 15819328011, 15819328009, 20225856013, 20225856006, 20225856007, 15806336016, 20225856008, 20225856009, 20225856010, 20225856020, 20225856021, 20225856017, 20225856018, 15806336017, 15806336019, 15806336018, 15828736030, 15828736031, 15828736032, 15828736034, 15828736035, 15828736036, 15828736037, 15828736038, 15828736039, 15828736040, 15828736041, 15828736043, 15828736044, 15828736045, 20226192006, 16923760009, 35852544091, 35852544092, 35852544093, 35852544094, 35852544095, 15819328010, 16923760010, 17025456007, 35852544099, 35852544100, 35852544101, 16925776001, 16925776002, 16925776003, 16925776004, 20225744001, 16925776006, 16925776007, 16925776008, 15794128009, 15794128010, 15794128011, 15794128012, 16925776009, 35852880012, 16925888006, 15819664007, 15819664008, 15819328012, 15806336010, 20223056018, 15818320013, 15806336011, 15806336012, 15836352009, 15806336013, 15836352010, 16924432034, 20225856004, 15836352011, 15806336015, 20225296001, 20225296002, 20225296003, 16925328010, 20225856011, 20225296004, 20225856012, 16926112001, 35865424083, 35865424084, 35865424085, 35865424086, 35865424087, 35865424088, 16926112002, 20225296006, 20225296007, 17027808001, 17027808002, 17027808003, 15800624016, 15806336007, 17026464010, 20225632001, 20226528001, 20226528002, 20226528003, 7856352002, 7856352003, 20225184001, 20225184002, 20225184003, 20225184004, 17026464011, 17026464012, 15819552013, 20225184006, 15819552015, 15819552016, 15819552017, 15819552018, 15819552019, 15818992013, 20225520001, 20223392026, 15818208029, 20223392031, 16925552011, 16925552012, 35880544043, 15818208045, 16925552013, 35880544045, 15818208048, 35880544047, 35880544046, 15819216003, 15819216004, 17025904016, 15819216006, 15819216007, 15819216008, 15819216009, 40744368008, 20225744002, 35865312132, 35865312114, 35865312115, 20225744003, 35865312116, 20225744004, 35865312121, 35865312122, 35865312123, 35865312124, 35865312125, 35865312127, 35865312128, 35865312129, 35865312130, 35865312131, 15836464003, 35865312133, 35865312134, 15819440007, 35865312136, 35865312137, 35865312138, 35865312139, 35865312140, 15819440010, 15819440011, 15819440012, 15819440013, 15819440015, 15819440016, 15819440017, 15819440018, 15819440019, 15819440020, 15836464015, 15836464016, 15836464017, 15836464018, 16924656019, 15819440021, 15793904029, 15793904030, 15818096034, 15819440008, 15826160041, 15819440009, 20225184007, 15836464004, 15818096050, 15818096049, 15836464006, 15836464007, 20224624004, 15836464008, 20225968002, 16923312073, 15836464009, 20224624006, 16923312074, 16923312075, 16923312076, 15836464010, 20224624007, 16925440003, 15836464011, 16925440004, 20224064001, 15836464012, 15836464013, 20225408001, 20225408002, 15819664006, 20225968011, 16926224001}\n"
     ]
    }
   ],
   "source": [
    "# What are new products wich were added in 2019 year?\n",
    "print(f\"In 2019 were added {len(items_count_in_2019 - items_count_in_2018)} new products\")\n",
    "print(f\"Theese are products with id: {items_count_in_2019 - items_count_in_2018}\")"
   ]
  },
  {
   "cell_type": "code",
   "execution_count": 53,
   "metadata": {
    "colab": {
     "base_uri": "https://localhost:8080/",
     "height": 72
    },
    "executionInfo": {
     "elapsed": 362449,
     "status": "ok",
     "timestamp": 1602370971600,
     "user": {
      "displayName": "Max Instellar",
      "photoUrl": "https://lh3.googleusercontent.com/a-/AOh14GiCPJlQRSgcV7OFsy1H9bX_BkpffnABIIypSHvJ=s64",
      "userId": "13594059136253802604"
     },
     "user_tz": -300
    },
    "id": "rhWUnWUJWJJM",
    "outputId": "5ed9d874-7d82-4cfc-cfd6-5af888353a87"
   },
   "outputs": [
    {
     "name": "stdout",
     "output_type": "stream",
     "text": [
      "The number of products that are no longer available in 2019 is 278 pieces\n",
      "these are products with id: {7856128001, 20219584001, 16924992001, 15803200001, 15799616001, 15803200003, 16924992004, 16924992007, 15803200009, 16924992010, 15803200011, 15803200012, 16924992013, 15801408013, 15803200015, 15801408016, 15801408017, 15803200016, 15803200017, 15801408020, 15801408021, 15801408022, 15803200018, 15793792015, 16924544021, 15801408026, 15801072013, 15801408028, 20226192001, 15799168030, 15801520006, 15799168032, 15793344028, 15793344029, 15793344030, 20226192003, 15799168036, 15799168038, 15799168039, 15799168040, 15793344032, 15793344035, 15793344038, 16924096039, 15799168046, 15799168052, 35852544053, 15802304001, 35852544055, 35852544056, 16924096057, 15799056002, 15802304003, 15826048066, 20222384001, 15799056003, 35852544069, 35852544071, 15849792072, 20222384002, 20219136002, 15849792078, 17025456006, 15799056008, 15830192020, 15842064013, 16924544006, 20221824006, 20220368001, 20220368002, 15798608003, 16923536001, 17027472002, 16923536002, 15800400007, 15799504008, 17027472004, 35852880010, 35852880011, 17026128011, 17027472006, 20223504007, 16923536010, 15836240016, 17027472008, 20222160011, 16924432019, 20220368019, 20220368018, 15836240022, 15795248007, 15850688008, 16925328001, 16923536028, 16925328002, 17024336032, 17027584006, 15799840011, 16925328003, 15801408010, 20219360003, 17024336041, 16923984008, 17024336046, 15795248008, 15842176007, 15800624004, 15799280007, 17024336052, 17024336053, 15799280008, 15796592015, 35865424060, 35865424062, 15800624007, 35865424066, 35865424067, 35865424073, 15800624009, 15842176008, 15799280012, 20220144001, 17026464002, 15800624011, 15801408001, 20220144002, 17027248001, 15800624012, 15801408012, 15801408002, 20220144003, 15800624013, 20220144004, 15842176009, 20221488002, 20220144006, 20220144007, 20221488004, 15802752004, 20220144008, 15800848001, 20221488006, 20221488007, 15800288001, 20218912002, 20219360002, 15846880002, 15802080003, 15798496004, 15800288007, 15800288008, 15800288004, 20219808002, 20223392011, 17024672011, 17024672013, 20220928001, 15799840010, 15799840016, 15801408011, 15799840018, 15799840012, 15799840013, 15799840017, 16923424018, 17025568018, 15799840015, 17025568017, 17025904009, 20220144015, 17024224028, 15801408015, 17026576001, 35880544032, 15826272008, 35880544034, 15826272009, 15801408019, 15801632002, 15818208059, 20223616006, 15799728001, 15799728002, 16924432004, 15799728003, 17026128002, 35865312082, 35865312083, 35865312084, 16924432006, 17024448018, 35865312088, 17026128004, 17027472001, 35865312091, 15828400006, 35865312093, 35865312095, 35865312096, 15799504006, 35865312100, 35865312101, 35865312102, 35865312103, 15842176002, 15794576006, 15842176004, 16925216003, 20221040001, 20221936001, 15842288003, 15800176004, 20221936002, 15800176006, 15835120003, 20221936003, 20221936004, 17025904010, 20220144011, 17025904012, 15793904012, 15835120008, 16924656010, 15799280016, 20221936010, 20220144012, 15793904011, 15801072020, 20219696016, 20219696015, 15825712021, 15801072024, 15801072015, 15800624017, 15835120001, 15835120002, 20220592006, 15816192004, 15957424025, 15957424027, 15803200002, 15957424028, 15803200004, 16924656006, 15826160044, 15818096046, 15803200006, 15835120007, 17027696001, 15803200007, 16924656008, 20221376001, 17027696002, 15794800002, 15803200008, 16924656009, 17024448002, 17027696003, 7855904004, 20221376003, 17027696004, 15803200010, 20221376004, 20222720001, 17027696006, 17027584002, 17027696007, 20221376007, 27843984346, 27843984347, 20224064002, 20221376009, 20221376010, 20221376011, 20221376012, 15800176001, 15793344031, 20223504001}\n"
     ]
    }
   ],
   "source": [
    "# What are products id's and the number of products that are no longer available in 2019?\n",
    "print(f\"The number of products that are no longer available in 2019 is {len(items_count_in_2018 - items_count_in_2019)} pieces\")\n",
    "print(f\"these are products with id: {items_count_in_2018 - items_count_in_2019}\")"
   ]
  },
  {
   "cell_type": "markdown",
   "metadata": {
    "id": "putQxOSnWJJP"
   },
   "source": [
    "#### Q3: What is the best day of week for sales?"
   ]
  },
  {
   "cell_type": "code",
   "execution_count": 54,
   "metadata": {
    "colab": {
     "base_uri": "https://localhost:8080/",
     "height": 52
    },
    "executionInfo": {
     "elapsed": 362444,
     "status": "ok",
     "timestamp": 1602370971600,
     "user": {
      "displayName": "Max Instellar",
      "photoUrl": "https://lh3.googleusercontent.com/a-/AOh14GiCPJlQRSgcV7OFsy1H9bX_BkpffnABIIypSHvJ=s64",
      "userId": "13594059136253802604"
     },
     "user_tz": -300
    },
    "id": "rcJQCWrYSnd3",
    "outputId": "d2ed461a-cb1f-449c-b8e4-6cd20748e1dc"
   },
   "outputs": [
    {
     "data": {
      "text/plain": [
       "array([ 0,  1,  2,  3,  4,  5,  6,  7,  8,  9, 10, 11, 12, 13, 14, 15, 16,\n",
       "       17, 18, 19, 20, 21, 22, 23, 24, 25, 26])"
      ]
     },
     "execution_count": 54,
     "metadata": {
      "tags": []
     },
     "output_type": "execute_result"
    }
   ],
   "source": [
    "df['date_block_num'].unique()"
   ]
  },
  {
   "cell_type": "code",
   "execution_count": 55,
   "metadata": {
    "colab": {
     "base_uri": "https://localhost:8080/",
     "height": 86
    },
    "executionInfo": {
     "elapsed": 362441,
     "status": "ok",
     "timestamp": 1602370971601,
     "user": {
      "displayName": "Max Instellar",
      "photoUrl": "https://lh3.googleusercontent.com/a-/AOh14GiCPJlQRSgcV7OFsy1H9bX_BkpffnABIIypSHvJ=s64",
      "userId": "13594059136253802604"
     },
     "user_tz": -300
    },
    "id": "Qpgqk7XWWJJQ",
    "outputId": "91ba9873-d2c0-4ddc-8818-625099968fa5"
   },
   "outputs": [
    {
     "data": {
      "text/plain": [
       "0    0\n",
       "1    0\n",
       "2    0\n",
       "Name: day_of_week, dtype: int64"
      ]
     },
     "execution_count": 55,
     "metadata": {
      "tags": []
     },
     "output_type": "execute_result"
    }
   ],
   "source": [
    "# First, we should convert 'date' column to datetime using .to_datetime() method\n",
    "# Agter that is done, we can get day of week by .dt.dayofweek:\n",
    "df['day_of_week'] = pd.to_datetime(df['date']).dt.dayofweek\n",
    "df['day_of_week'].head(3)"
   ]
  },
  {
   "cell_type": "code",
   "execution_count": 56,
   "metadata": {
    "colab": {
     "base_uri": "https://localhost:8080/",
     "height": 34
    },
    "executionInfo": {
     "elapsed": 362438,
     "status": "ok",
     "timestamp": 1602370971602,
     "user": {
      "displayName": "Max Instellar",
      "photoUrl": "https://lh3.googleusercontent.com/a-/AOh14GiCPJlQRSgcV7OFsy1H9bX_BkpffnABIIypSHvJ=s64",
      "userId": "13594059136253802604"
     },
     "user_tz": -300
    },
    "id": "Mrsnoau8WJJS",
    "outputId": "e6bd9f86-c5a0-428e-c8cb-19c7e68d9dc6"
   },
   "outputs": [
    {
     "data": {
      "text/plain": [
       "array([0, 1, 2, 3, 4, 5, 6])"
      ]
     },
     "execution_count": 56,
     "metadata": {
      "tags": []
     },
     "output_type": "execute_result"
    }
   ],
   "source": [
    "df['day_of_week'].unique()"
   ]
  },
  {
   "cell_type": "code",
   "execution_count": 57,
   "metadata": {
    "colab": {
     "base_uri": "https://localhost:8080/",
     "height": 139
    },
    "executionInfo": {
     "elapsed": 362433,
     "status": "ok",
     "timestamp": 1602370971602,
     "user": {
      "displayName": "Max Instellar",
      "photoUrl": "https://lh3.googleusercontent.com/a-/AOh14GiCPJlQRSgcV7OFsy1H9bX_BkpffnABIIypSHvJ=s64",
      "userId": "13594059136253802604"
     },
     "user_tz": -300
    },
    "id": "yjmCelDeZsxL",
    "outputId": "ba1b0dc5-7f7e-4a9d-be6b-afe8ba5133d4"
   },
   "outputs": [
    {
     "data": {
      "text/plain": [
       "{4055636: 0,\n",
       " 4546639: 1,\n",
       " 4949366: 2,\n",
       " 5655539: 3,\n",
       " 7083199: 4,\n",
       " 7299629: 6,\n",
       " 8623858: 5}"
      ]
     },
     "execution_count": 57,
     "metadata": {
      "tags": []
     },
     "output_type": "execute_result"
    }
   ],
   "source": [
    "day_of_week_sales = df.groupby('day_of_week')['sales'].sum()\n",
    "sales_dict = dict([(sales, i) for i, sales in enumerate(day_of_week_sales)])\n",
    "sales_dict"
   ]
  },
  {
   "cell_type": "code",
   "execution_count": 58,
   "metadata": {
    "colab": {
     "base_uri": "https://localhost:8080/",
     "height": 52
    },
    "executionInfo": {
     "elapsed": 362430,
     "status": "ok",
     "timestamp": 1602370971603,
     "user": {
      "displayName": "Max Instellar",
      "photoUrl": "https://lh3.googleusercontent.com/a-/AOh14GiCPJlQRSgcV7OFsy1H9bX_BkpffnABIIypSHvJ=s64",
      "userId": "13594059136253802604"
     },
     "user_tz": -300
    },
    "id": "NnJg0hQQWJJV",
    "outputId": "1f3d1c85-4ec7-45f7-e7ab-26d30ff95f18"
   },
   "outputs": [
    {
     "name": "stdout",
     "output_type": "stream",
     "text": [
      "Max sales are 95820 $ for all time\n",
      "in a 5 day of week\n"
     ]
    }
   ],
   "source": [
    "max_day_sales = df.groupby('day_of_week')['sales'].sum().max()\n",
    "\n",
    "print(f\"Max sales are {max_day_sales // 90} $ for all time\")\n",
    "print(f\"in a {sales_dict[max_day_sales]} day of week\")"
   ]
  },
  {
   "cell_type": "markdown",
   "metadata": {
    "id": "qtXaQt8KcApn"
   },
   "source": [
    "So, saturday is the best day for sales."
   ]
  },
  {
   "cell_type": "markdown",
   "metadata": {
    "id": "ouPCG3z4WJJY"
   },
   "source": [
    "#### Q4: What is the most popular item and what category is it?"
   ]
  },
  {
   "cell_type": "code",
   "execution_count": 59,
   "metadata": {
    "executionInfo": {
     "elapsed": 362427,
     "status": "ok",
     "timestamp": 1602370971604,
     "user": {
      "displayName": "Max Instellar",
      "photoUrl": "https://lh3.googleusercontent.com/a-/AOh14GiCPJlQRSgcV7OFsy1H9bX_BkpffnABIIypSHvJ=s64",
      "userId": "13594059136253802604"
     },
     "user_tz": -300
    },
    "id": "bhrY6Q5XWJJZ"
   },
   "outputs": [],
   "source": [
    "# So, to find that out, we should check 'item_cnt_day' column\n",
    "# and count sum of it, according to 'item_id'\n",
    "most_popular_item = df.groupby(['item_category', 'item_id'])['item_cnt_day'].sum()"
   ]
  },
  {
   "cell_type": "code",
   "execution_count": 60,
   "metadata": {
    "colab": {
     "base_uri": "https://localhost:8080/",
     "height": 34
    },
    "executionInfo": {
     "elapsed": 362423,
     "status": "ok",
     "timestamp": 1602370971604,
     "user": {
      "displayName": "Max Instellar",
      "photoUrl": "https://lh3.googleusercontent.com/a-/AOh14GiCPJlQRSgcV7OFsy1H9bX_BkpffnABIIypSHvJ=s64",
      "userId": "13594059136253802604"
     },
     "user_tz": -300
    },
    "id": "SMld7tBLWJJb",
    "outputId": "46db072f-7438-44eb-92b0-49168501fce8"
   },
   "outputs": [
    {
     "data": {
      "text/plain": [
       "('grooming', 16925552007)"
      ]
     },
     "execution_count": 60,
     "metadata": {
      "tags": []
     },
     "output_type": "execute_result"
    }
   ],
   "source": [
    "category, item = most_popular_item.idxmax()\n",
    "category, item"
   ]
  },
  {
   "cell_type": "code",
   "execution_count": 61,
   "metadata": {
    "colab": {
     "base_uri": "https://localhost:8080/",
     "height": 52
    },
    "executionInfo": {
     "elapsed": 362420,
     "status": "ok",
     "timestamp": 1602370971605,
     "user": {
      "displayName": "Max Instellar",
      "photoUrl": "https://lh3.googleusercontent.com/a-/AOh14GiCPJlQRSgcV7OFsy1H9bX_BkpffnABIIypSHvJ=s64",
      "userId": "13594059136253802604"
     },
     "user_tz": -300
    },
    "id": "ixtwpCRRWJJe",
    "outputId": "2b690f62-3de9-4395-bfc0-2b6be88189d0"
   },
   "outputs": [
    {
     "name": "stdout",
     "output_type": "stream",
     "text": [
      "Most popular item was 16925552007 of grooming category\n",
      "This item was sold 2178 times\n"
     ]
    }
   ],
   "source": [
    "print(f\"Most popular item was {item} of {category} category\")\n",
    "print(f\"This item was sold {most_popular_item.max()} times\")"
   ]
  },
  {
   "cell_type": "markdown",
   "metadata": {
    "id": "fgEBvHrQWJJg"
   },
   "source": [
    "#### Q5: What brand is the most popular? "
   ]
  },
  {
   "cell_type": "code",
   "execution_count": 62,
   "metadata": {
    "colab": {
     "base_uri": "https://localhost:8080/",
     "height": 486
    },
    "executionInfo": {
     "elapsed": 363678,
     "status": "ok",
     "timestamp": 1602370972867,
     "user": {
      "displayName": "Max Instellar",
      "photoUrl": "https://lh3.googleusercontent.com/a-/AOh14GiCPJlQRSgcV7OFsy1H9bX_BkpffnABIIypSHvJ=s64",
      "userId": "13594059136253802604"
     },
     "user_tz": -300
    },
    "id": "_Ta-2cJLWJJk",
    "outputId": "d9bcca12-3e52-4533-c85d-cdcb2c1c666f"
   },
   "outputs": [
    {
     "data": {
      "image/png": "[encoded data removed]",
      "text/plain": [
       "<Figure size 864x576 with 1 Axes>"
      ]
     },
     "metadata": {
      "tags": []
     },
     "output_type": "display_data"
    }
   ],
   "source": [
    "# Form a dataframe using .groupby() method\n",
    "df_pie_shop_id = df.groupby('brand_id')['item_cnt_day'].sum()\n",
    "# A groupby() pandas method is used when we need to group\n",
    "# large amounts of data and compute some operations on these groups\n",
    "\n",
    "# There are only 2 brands in data\n",
    "# Make the plot with pandas\n",
    "df_pie_shop_id.plot(kind='pie', subplots=True, figsize=(12, 8))\n",
    "plt.title(\"Distribution of the brand's bestselling\")\n",
    "plt.show()"
   ]
  },
  {
   "cell_type": "markdown",
   "metadata": {
    "id": "msVZqTAllvtJ"
   },
   "source": [
    "Brand with id '10021' is more popular, than '10013'."
   ]
  },
  {
   "cell_type": "markdown",
   "metadata": {
    "id": "gWVHTyGkt2YB"
   },
   "source": [
    "#### Q6: What are counts of returned items?"
   ]
  },
  {
   "cell_type": "code",
   "execution_count": 63,
   "metadata": {
    "colab": {
     "base_uri": "https://localhost:8080/",
     "height": 104
    },
    "executionInfo": {
     "elapsed": 363676,
     "status": "ok",
     "timestamp": 1602370972867,
     "user": {
      "displayName": "Max Instellar",
      "photoUrl": "https://lh3.googleusercontent.com/a-/AOh14GiCPJlQRSgcV7OFsy1H9bX_BkpffnABIIypSHvJ=s64",
      "userId": "13594059136253802604"
     },
     "user_tz": -300
    },
    "id": "9bk8hWt9ocPm",
    "outputId": "2b7ca82b-7730-4f62-92a9-dab4be82a5d0"
   },
   "outputs": [
    {
     "name": "stdout",
     "output_type": "stream",
     "text": [
      "Total negative values: 225\n",
      "Of them equal to -1: 211\n",
      "Of them equal to the value of -2: 11\n",
      "Of them equal to the value -3: 1\n",
      "Of them equal to the value -4: 2\n"
     ]
    }
   ],
   "source": [
    "print('Total negative values: ', end='')\n",
    "print(df[df ['item_cnt_day'] < 0]. item_cnt_day.count())\n",
    "print('Of them equal to -1: ', end='')\n",
    "print(df[df['item_cnt_day'] == -1].item_cnt_day.count())\n",
    "print('Of them equal to the value of -2: ', end='')\n",
    "print(df[df['item_cnt_day'] == -2].item_cnt_day.count())\n",
    "print('Of them equal to the value -3: ', end='')\n",
    "print(df[df['item_cnt_day'] == -3].item_cnt_day.count())\n",
    "print('Of them equal to the value -4: ', end='')\n",
    "print(df[df['item_cnt_day'] == -4].item_cnt_day.count())"
   ]
  },
  {
   "cell_type": "markdown",
   "metadata": {
    "id": "AzIEtYhHuACr"
   },
   "source": [
    "In other words, in most cases, refunds are single."
   ]
  },
  {
   "cell_type": "markdown",
   "metadata": {
    "id": "5Pl6VcXZWJJq"
   },
   "source": [
    "Let us save and upload our work to Jovian before continuing."
   ]
  },
  {
   "cell_type": "code",
   "execution_count": 64,
   "metadata": {
    "executionInfo": {
     "elapsed": 363673,
     "status": "ok",
     "timestamp": 1602370972868,
     "user": {
      "displayName": "Max Instellar",
      "photoUrl": "https://lh3.googleusercontent.com/a-/AOh14GiCPJlQRSgcV7OFsy1H9bX_BkpffnABIIypSHvJ=s64",
      "userId": "13594059136253802604"
     },
     "user_tz": -300
    },
    "id": "zpDSkVLUWJJr"
   },
   "outputs": [],
   "source": [
    "import jovian"
   ]
  },
  {
   "cell_type": "code",
   "execution_count": 65,
   "metadata": {
    "colab": {
     "base_uri": "https://localhost:8080/",
     "height": 105
    },
    "executionInfo": {
     "elapsed": 366106,
     "status": "ok",
     "timestamp": 1602370975305,
     "user": {
      "displayName": "Max Instellar",
      "photoUrl": "https://lh3.googleusercontent.com/a-/AOh14GiCPJlQRSgcV7OFsy1H9bX_BkpffnABIIypSHvJ=s64",
      "userId": "13594059136253802604"
     },
     "user_tz": -300
    },
    "id": "ysGDkNifWJJt",
    "outputId": "71cb62d7-76c7-49bb-a428-d79100315fd9"
   },
   "outputs": [
    {
     "name": "stdout",
     "output_type": "stream",
     "text": [
      "[jovian] Detected Colab notebook...\u001b[0m\n",
      "[jovian] Uploading colab notebook to Jovian...\u001b[0m\n",
      "[jovian] Capturing environment..\u001b[0m\n",
      "[jovian] Committed successfully! https://jovian.ml/max1mka1/sales-forecast-data-exploration\u001b[0m\n"
     ]
    },
    {
     "data": {
      "application/vnd.google.colaboratory.intrinsic+json": {
       "type": "string"
      },
      "text/plain": [
       "'https://jovian.ml/max1mka1/sales-forecast-data-exploration'"
      ]
     },
     "execution_count": 65,
     "metadata": {
      "tags": []
     },
     "output_type": "execute_result"
    }
   ],
   "source": [
    "jovian.commit(project=project_name)"
   ]
  },
  {
   "cell_type": "markdown",
   "metadata": {
    "id": "-ZcKfxBNWJJ9"
   },
   "source": [
    "## Inferences and Conclusion\n",
    "\n",
    "**TODO** - Write some explanation here: a summary of all the inferences drawn from the analysis, and any conclusions you may have drawn by answering various questions."
   ]
  },
  {
   "cell_type": "markdown",
   "metadata": {
    "id": "CFs2asi6mxp3"
   },
   "source": [
    "First of all, it is worth noting that there is not as much data as we would like to build a high-quality sales forecasting model.\n",
    "For more accurate and effective sales forecasting, the current data set needs to be enriched with data on the number of days of work in the location - the store may have been under repair, for example, or in quarantine. Bad sales of a location can also be affected by the presence of strong competitors - and sales are always bad there. These, and many other factors, would probably be useful."
   ]
  },
  {
   "cell_type": "markdown",
   "metadata": {
    "id": "AN9lmiFemzLO"
   },
   "source": [
    "You can notice some features of the presented data set: for example, the average duration of promotions (Promo_time) is 5 days (4.801320), and the maximum is about 9 days.\n",
    "The discount amount varies greatly - from 0 to 50%."
   ]
  },
  {
   "cell_type": "markdown",
   "metadata": {
    "id": "QX85GYa2oBLV"
   },
   "source": [
    "According to distribution by discount values, we can say that most of the values are the absence of a discount, that is, most of the time products are displayed at the usual price, and if a discount is valid, it is usually 50% or 40%."
   ]
  },
  {
   "cell_type": "markdown",
   "metadata": {
    "id": "g5F1vY-upJ83"
   },
   "source": [
    "First of all, we downloaded hand-made by myself Kaggle dataset. Then loaded it into pandas datafraames, and started to concatenate files into one dataframe. After that work is done, we added new columns into dataframe to make it mor consolidated and informative. Finally, we got some statistical inforamtion, answered some interesting questions about data, and plot graphs. In the end, we made conclusions about this work."
   ]
  },
  {
   "cell_type": "code",
   "execution_count": 66,
   "metadata": {
    "executionInfo": {
     "elapsed": 366102,
     "status": "ok",
     "timestamp": 1602370975305,
     "user": {
      "displayName": "Max Instellar",
      "photoUrl": "https://lh3.googleusercontent.com/a-/AOh14GiCPJlQRSgcV7OFsy1H9bX_BkpffnABIIypSHvJ=s64",
      "userId": "13594059136253802604"
     },
     "user_tz": -300
    },
    "id": "1IcZnsLFWJJ-"
   },
   "outputs": [],
   "source": [
    "import jovian"
   ]
  },
  {
   "cell_type": "code",
   "execution_count": 67,
   "metadata": {
    "colab": {
     "base_uri": "https://localhost:8080/",
     "height": 105
    },
    "executionInfo": {
     "elapsed": 368619,
     "status": "ok",
     "timestamp": 1602370977826,
     "user": {
      "displayName": "Max Instellar",
      "photoUrl": "https://lh3.googleusercontent.com/a-/AOh14GiCPJlQRSgcV7OFsy1H9bX_BkpffnABIIypSHvJ=s64",
      "userId": "13594059136253802604"
     },
     "user_tz": -300
    },
    "id": "XMFOAkyFWJKB",
    "outputId": "677382fb-9c8c-4a97-d88a-ad35dabb1e67"
   },
   "outputs": [
    {
     "name": "stdout",
     "output_type": "stream",
     "text": [
      "[jovian] Detected Colab notebook...\u001b[0m\n",
      "[jovian] Uploading colab notebook to Jovian...\u001b[0m\n",
      "[jovian] Capturing environment..\u001b[0m\n",
      "[jovian] Committed successfully! https://jovian.ml/max1mka1/sales-forecast-data-exploration\u001b[0m\n"
     ]
    },
    {
     "data": {
      "application/vnd.google.colaboratory.intrinsic+json": {
       "type": "string"
      },
      "text/plain": [
       "'https://jovian.ml/max1mka1/sales-forecast-data-exploration'"
      ]
     },
     "execution_count": 67,
     "metadata": {
      "tags": []
     },
     "output_type": "execute_result"
    }
   ],
   "source": [
    "jovian.commit(project=project_name)"
   ]
  },
  {
   "cell_type": "markdown",
   "metadata": {
    "id": "yBAb5ZsVWJKE"
   },
   "source": [
    "## References and Future Work\n",
    "\n",
    "**TODO** - Write some explanation here: ideas for future projects using this dataset, and links to resources you found useful."
   ]
  },
  {
   "cell_type": "markdown",
   "metadata": {
    "id": "JPcPEh7jGlnN"
   },
   "source": [
    "*    For future projects using this dataset, we can predict sales for March of 2020, according to previous sales, that is to make time series analysis: [Forecasting-task Kaggle dataset, tasks, information and more](https://www.kaggle.com/maxinstellar/forecasting-task)\n",
    "\n",
    "*    Fore time series forecasting exists a lot of solutions, from statistical ones to deep learning methods. You can start from [pytorch-forecasting](https://pypi.org/project/pytorch-forecasting/) library with neural networks.\n",
    "*    You also can take a try in [LSTM time series prediction](https://stackabuse.com/time-series-prediction-using-lstm-with-pytorch-in-python/). It looks very interesting.\n",
    "*    And, if you want to have a good understanding of time series analysis, try to read a book [Forecasting principles and practice](https://otexts.com/fpp2/)."
   ]
  },
  {
   "cell_type": "markdown",
   "metadata": {
    "id": "9zDa6BjTsTGC"
   },
   "source": [
    "Also, I want to thank the team of [Jovian.ml](https://jovian.ml/) for participation in [\"Data Analysis with Python: Zero to Pandas\"](https://jovian.ml/learn/data-analysis-with-python-zero-to-pandas) project. It was very interesting and informative."
   ]
  },
  {
   "cell_type": "code",
   "execution_count": 68,
   "metadata": {
    "executionInfo": {
     "elapsed": 368615,
     "status": "ok",
     "timestamp": 1602370977827,
     "user": {
      "displayName": "Max Instellar",
      "photoUrl": "https://lh3.googleusercontent.com/a-/AOh14GiCPJlQRSgcV7OFsy1H9bX_BkpffnABIIypSHvJ=s64",
      "userId": "13594059136253802604"
     },
     "user_tz": -300
    },
    "id": "8bWvwwPxWJKF"
   },
   "outputs": [],
   "source": [
    "import jovian"
   ]
  },
  {
   "cell_type": "code",
   "execution_count": 69,
   "metadata": {
    "colab": {
     "base_uri": "https://localhost:8080/",
     "height": 105
    },
    "executionInfo": {
     "elapsed": 371639,
     "status": "ok",
     "timestamp": 1602370980855,
     "user": {
      "displayName": "Max Instellar",
      "photoUrl": "https://lh3.googleusercontent.com/a-/AOh14GiCPJlQRSgcV7OFsy1H9bX_BkpffnABIIypSHvJ=s64",
      "userId": "13594059136253802604"
     },
     "user_tz": -300
    },
    "id": "uy47yz_DWJKH",
    "outputId": "1a1b97f6-077a-4374-d734-28a93f53d21e",
    "scrolled": true
   },
   "outputs": [
    {
     "name": "stdout",
     "output_type": "stream",
     "text": [
      "[jovian] Detected Colab notebook...\u001b[0m\n",
      "[jovian] Uploading colab notebook to Jovian...\u001b[0m\n",
      "[jovian] Capturing environment..\u001b[0m\n",
      "[jovian] Committed successfully! https://jovian.ml/max1mka1/sales-forecast-data-exploration\u001b[0m\n"
     ]
    },
    {
     "data": {
      "application/vnd.google.colaboratory.intrinsic+json": {
       "type": "string"
      },
      "text/plain": [
       "'https://jovian.ml/max1mka1/sales-forecast-data-exploration'"
      ]
     },
     "execution_count": 69,
     "metadata": {
      "tags": []
     },
     "output_type": "execute_result"
    }
   ],
   "source": [
    "jovian.commit(project=project_name)"
   ]
  }
 ],
 "metadata": {
  "colab": {
   "collapsed_sections": [],
   "name": "zerotopandas-course-project.ipynb",
   "provenance": []
  },
  "kernelspec": {
   "display_name": "Python 3",
   "language": "python",
   "name": "python3"
  },
  "language_info": {
   "codemirror_mode": {
    "name": "ipython",
    "version": 3
   },
   "file_extension": ".py",
   "mimetype": "text/x-python",
   "name": "python",
   "nbconvert_exporter": "python",
   "pygments_lexer": "ipython3",
   "version": "3.8.5"
  },
  "widgets": {
   "application/vnd.jupyter.widget-state+json": {
    "0d88c7bd2c18479fb5e1023298ac91eb": {
     "model_module": "@jupyter-widgets/controls",
     "model_name": "DescriptionStyleModel",
     "state": {
      "_model_module": "@jupyter-widgets/controls",
      "_model_module_version": "1.5.0",
      "_model_name": "DescriptionStyleModel",
      "_view_count": null,
      "_view_module": "@jupyter-widgets/base",
      "_view_module_version": "1.2.0",
      "_view_name": "StyleView",
      "description_width": ""
     }
    },
    "1bdf2c61192b4f7b84d696160db95cbb": {
     "model_module": "@jupyter-widgets/controls",
     "model_name": "HTMLModel",
     "state": {
      "_dom_classes": [],
      "_model_module": "@jupyter-widgets/controls",
      "_model_module_version": "1.5.0",
      "_model_name": "HTMLModel",
      "_view_count": null,
      "_view_module": "@jupyter-widgets/controls",
      "_view_module_version": "1.5.0",
      "_view_name": "HTMLView",
      "description": "",
      "description_tooltip": null,
      "layout": "IPY_MODEL_3032e394d95e4dce80dc89c4474f3d45",
      "placeholder": "​",
      "style": "IPY_MODEL_2ddc2e9477f549b3aad5ed62ba25832b",
      "value": " 99814/99814 [00:00&lt;00:00, 216311.23it/s]"
     }
    },
    "1e4fe349500b4b64921e699f41130155": {
     "model_module": "@jupyter-widgets/controls",
     "model_name": "FloatProgressModel",
     "state": {
      "_dom_classes": [],
      "_model_module": "@jupyter-widgets/controls",
      "_model_module_version": "1.5.0",
      "_model_name": "FloatProgressModel",
      "_view_count": null,
      "_view_module": "@jupyter-widgets/controls",
      "_view_module_version": "1.5.0",
      "_view_name": "ProgressView",
      "bar_style": "success",
      "description": "100%",
      "description_tooltip": null,
      "layout": "IPY_MODEL_56e9ec1c4d804efdb161d043305fa443",
      "max": 99814,
      "min": 0,
      "orientation": "horizontal",
      "style": "IPY_MODEL_ffe3542666ab42f7a86f96849e02b303",
      "value": 99814
     }
    },
    "2ddc2e9477f549b3aad5ed62ba25832b": {
     "model_module": "@jupyter-widgets/controls",
     "model_name": "DescriptionStyleModel",
     "state": {
      "_model_module": "@jupyter-widgets/controls",
      "_model_module_version": "1.5.0",
      "_model_name": "DescriptionStyleModel",
      "_view_count": null,
      "_view_module": "@jupyter-widgets/base",
      "_view_module_version": "1.2.0",
      "_view_name": "StyleView",
      "description_width": ""
     }
    },
    "3032e394d95e4dce80dc89c4474f3d45": {
     "model_module": "@jupyter-widgets/base",
     "model_name": "LayoutModel",
     "state": {
      "_model_module": "@jupyter-widgets/base",
      "_model_module_version": "1.2.0",
      "_model_name": "LayoutModel",
      "_view_count": null,
      "_view_module": "@jupyter-widgets/base",
      "_view_module_version": "1.2.0",
      "_view_name": "LayoutView",
      "align_content": null,
      "align_items": null,
      "align_self": null,
      "border": null,
      "bottom": null,
      "display": null,
      "flex": null,
      "flex_flow": null,
      "grid_area": null,
      "grid_auto_columns": null,
      "grid_auto_flow": null,
      "grid_auto_rows": null,
      "grid_column": null,
      "grid_gap": null,
      "grid_row": null,
      "grid_template_areas": null,
      "grid_template_columns": null,
      "grid_template_rows": null,
      "height": null,
      "justify_content": null,
      "justify_items": null,
      "left": null,
      "margin": null,
      "max_height": null,
      "max_width": null,
      "min_height": null,
      "min_width": null,
      "object_fit": null,
      "object_position": null,
      "order": null,
      "overflow": null,
      "overflow_x": null,
      "overflow_y": null,
      "padding": null,
      "right": null,
      "top": null,
      "visibility": null,
      "width": null
     }
    },
    "49a50f14c9e8407fb5525f79b1a1f6cd": {
     "model_module": "@jupyter-widgets/base",
     "model_name": "LayoutModel",
     "state": {
      "_model_module": "@jupyter-widgets/base",
      "_model_module_version": "1.2.0",
      "_model_name": "LayoutModel",
      "_view_count": null,
      "_view_module": "@jupyter-widgets/base",
      "_view_module_version": "1.2.0",
      "_view_name": "LayoutView",
      "align_content": null,
      "align_items": null,
      "align_self": null,
      "border": null,
      "bottom": null,
      "display": null,
      "flex": null,
      "flex_flow": null,
      "grid_area": null,
      "grid_auto_columns": null,
      "grid_auto_flow": null,
      "grid_auto_rows": null,
      "grid_column": null,
      "grid_gap": null,
      "grid_row": null,
      "grid_template_areas": null,
      "grid_template_columns": null,
      "grid_template_rows": null,
      "height": null,
      "justify_content": null,
      "justify_items": null,
      "left": null,
      "margin": null,
      "max_height": null,
      "max_width": null,
      "min_height": null,
      "min_width": null,
      "object_fit": null,
      "object_position": null,
      "order": null,
      "overflow": null,
      "overflow_x": null,
      "overflow_y": null,
      "padding": null,
      "right": null,
      "top": null,
      "visibility": null,
      "width": null
     }
    },
    "56e9ec1c4d804efdb161d043305fa443": {
     "model_module": "@jupyter-widgets/base",
     "model_name": "LayoutModel",
     "state": {
      "_model_module": "@jupyter-widgets/base",
      "_model_module_version": "1.2.0",
      "_model_name": "LayoutModel",
      "_view_count": null,
      "_view_module": "@jupyter-widgets/base",
      "_view_module_version": "1.2.0",
      "_view_name": "LayoutView",
      "align_content": null,
      "align_items": null,
      "align_self": null,
      "border": null,
      "bottom": null,
      "display": null,
      "flex": null,
      "flex_flow": null,
      "grid_area": null,
      "grid_auto_columns": null,
      "grid_auto_flow": null,
      "grid_auto_rows": null,
      "grid_column": null,
      "grid_gap": null,
      "grid_row": null,
      "grid_template_areas": null,
      "grid_template_columns": null,
      "grid_template_rows": null,
      "height": null,
      "justify_content": null,
      "justify_items": null,
      "left": null,
      "margin": null,
      "max_height": null,
      "max_width": null,
      "min_height": null,
      "min_width": null,
      "object_fit": null,
      "object_position": null,
      "order": null,
      "overflow": null,
      "overflow_x": null,
      "overflow_y": null,
      "padding": null,
      "right": null,
      "top": null,
      "visibility": null,
      "width": null
     }
    },
    "a2ad49f2876842e5867b4fccf180accd": {
     "model_module": "@jupyter-widgets/base",
     "model_name": "LayoutModel",
     "state": {
      "_model_module": "@jupyter-widgets/base",
      "_model_module_version": "1.2.0",
      "_model_name": "LayoutModel",
      "_view_count": null,
      "_view_module": "@jupyter-widgets/base",
      "_view_module_version": "1.2.0",
      "_view_name": "LayoutView",
      "align_content": null,
      "align_items": null,
      "align_self": null,
      "border": null,
      "bottom": null,
      "display": null,
      "flex": null,
      "flex_flow": null,
      "grid_area": null,
      "grid_auto_columns": null,
      "grid_auto_flow": null,
      "grid_auto_rows": null,
      "grid_column": null,
      "grid_gap": null,
      "grid_row": null,
      "grid_template_areas": null,
      "grid_template_columns": null,
      "grid_template_rows": null,
      "height": null,
      "justify_content": null,
      "justify_items": null,
      "left": null,
      "margin": null,
      "max_height": null,
      "max_width": null,
      "min_height": null,
      "min_width": null,
      "object_fit": null,
      "object_position": null,
      "order": null,
      "overflow": null,
      "overflow_x": null,
      "overflow_y": null,
      "padding": null,
      "right": null,
      "top": null,
      "visibility": null,
      "width": null
     }
    },
    "a81b9c3cadea428b896159c9af41b17d": {
     "model_module": "@jupyter-widgets/controls",
     "model_name": "HBoxModel",
     "state": {
      "_dom_classes": [],
      "_model_module": "@jupyter-widgets/controls",
      "_model_module_version": "1.5.0",
      "_model_name": "HBoxModel",
      "_view_count": null,
      "_view_module": "@jupyter-widgets/controls",
      "_view_module_version": "1.5.0",
      "_view_name": "HBoxView",
      "box_style": "",
      "children": [
       "IPY_MODEL_1e4fe349500b4b64921e699f41130155",
       "IPY_MODEL_1bdf2c61192b4f7b84d696160db95cbb"
      ],
      "layout": "IPY_MODEL_a2ad49f2876842e5867b4fccf180accd"
     }
    },
    "ad4c6a1fb40e48b2a3a4637ac4e1bbff": {
     "model_module": "@jupyter-widgets/base",
     "model_name": "LayoutModel",
     "state": {
      "_model_module": "@jupyter-widgets/base",
      "_model_module_version": "1.2.0",
      "_model_name": "LayoutModel",
      "_view_count": null,
      "_view_module": "@jupyter-widgets/base",
      "_view_module_version": "1.2.0",
      "_view_name": "LayoutView",
      "align_content": null,
      "align_items": null,
      "align_self": null,
      "border": null,
      "bottom": null,
      "display": null,
      "flex": null,
      "flex_flow": null,
      "grid_area": null,
      "grid_auto_columns": null,
      "grid_auto_flow": null,
      "grid_auto_rows": null,
      "grid_column": null,
      "grid_gap": null,
      "grid_row": null,
      "grid_template_areas": null,
      "grid_template_columns": null,
      "grid_template_rows": null,
      "height": null,
      "justify_content": null,
      "justify_items": null,
      "left": null,
      "margin": null,
      "max_height": null,
      "max_width": null,
      "min_height": null,
      "min_width": null,
      "object_fit": null,
      "object_position": null,
      "order": null,
      "overflow": null,
      "overflow_x": null,
      "overflow_y": null,
      "padding": null,
      "right": null,
      "top": null,
      "visibility": null,
      "width": null
     }
    },
    "c0e1b3deb2a54ce1880966eb03e9c64d": {
     "model_module": "@jupyter-widgets/controls",
     "model_name": "FloatProgressModel",
     "state": {
      "_dom_classes": [],
      "_model_module": "@jupyter-widgets/controls",
      "_model_module_version": "1.5.0",
      "_model_name": "FloatProgressModel",
      "_view_count": null,
      "_view_module": "@jupyter-widgets/controls",
      "_view_module_version": "1.5.0",
      "_view_name": "ProgressView",
      "bar_style": "success",
      "description": "100%",
      "description_tooltip": null,
      "layout": "IPY_MODEL_ad4c6a1fb40e48b2a3a4637ac4e1bbff",
      "max": 99814,
      "min": 0,
      "orientation": "horizontal",
      "style": "IPY_MODEL_f5f5f95d51a34efea94ebe9e2d6e2729",
      "value": 99814
     }
    },
    "c73bc316700c4892946b00146cdd7c94": {
     "model_module": "@jupyter-widgets/controls",
     "model_name": "HTMLModel",
     "state": {
      "_dom_classes": [],
      "_model_module": "@jupyter-widgets/controls",
      "_model_module_version": "1.5.0",
      "_model_name": "HTMLModel",
      "_view_count": null,
      "_view_module": "@jupyter-widgets/controls",
      "_view_module_version": "1.5.0",
      "_view_name": "HTMLView",
      "description": "",
      "description_tooltip": null,
      "layout": "IPY_MODEL_49a50f14c9e8407fb5525f79b1a1f6cd",
      "placeholder": "​",
      "style": "IPY_MODEL_0d88c7bd2c18479fb5e1023298ac91eb",
      "value": " 99814/99814 [05:01&lt;00:00, 330.51it/s]"
     }
    },
    "e97d2c31fbde499e9805d888162f78dc": {
     "model_module": "@jupyter-widgets/base",
     "model_name": "LayoutModel",
     "state": {
      "_model_module": "@jupyter-widgets/base",
      "_model_module_version": "1.2.0",
      "_model_name": "LayoutModel",
      "_view_count": null,
      "_view_module": "@jupyter-widgets/base",
      "_view_module_version": "1.2.0",
      "_view_name": "LayoutView",
      "align_content": null,
      "align_items": null,
      "align_self": null,
      "border": null,
      "bottom": null,
      "display": null,
      "flex": null,
      "flex_flow": null,
      "grid_area": null,
      "grid_auto_columns": null,
      "grid_auto_flow": null,
      "grid_auto_rows": null,
      "grid_column": null,
      "grid_gap": null,
      "grid_row": null,
      "grid_template_areas": null,
      "grid_template_columns": null,
      "grid_template_rows": null,
      "height": null,
      "justify_content": null,
      "justify_items": null,
      "left": null,
      "margin": null,
      "max_height": null,
      "max_width": null,
      "min_height": null,
      "min_width": null,
      "object_fit": null,
      "object_position": null,
      "order": null,
      "overflow": null,
      "overflow_x": null,
      "overflow_y": null,
      "padding": null,
      "right": null,
      "top": null,
      "visibility": null,
      "width": null
     }
    },
    "f5f5f95d51a34efea94ebe9e2d6e2729": {
     "model_module": "@jupyter-widgets/controls",
     "model_name": "ProgressStyleModel",
     "state": {
      "_model_module": "@jupyter-widgets/controls",
      "_model_module_version": "1.5.0",
      "_model_name": "ProgressStyleModel",
      "_view_count": null,
      "_view_module": "@jupyter-widgets/base",
      "_view_module_version": "1.2.0",
      "_view_name": "StyleView",
      "bar_color": null,
      "description_width": "initial"
     }
    },
    "facd1238ce06427f8d469ff61a1cf1a3": {
     "model_module": "@jupyter-widgets/controls",
     "model_name": "HBoxModel",
     "state": {
      "_dom_classes": [],
      "_model_module": "@jupyter-widgets/controls",
      "_model_module_version": "1.5.0",
      "_model_name": "HBoxModel",
      "_view_count": null,
      "_view_module": "@jupyter-widgets/controls",
      "_view_module_version": "1.5.0",
      "_view_name": "HBoxView",
      "box_style": "",
      "children": [
       "IPY_MODEL_c0e1b3deb2a54ce1880966eb03e9c64d",
       "IPY_MODEL_c73bc316700c4892946b00146cdd7c94"
      ],
      "layout": "IPY_MODEL_e97d2c31fbde499e9805d888162f78dc"
     }
    },
    "ffe3542666ab42f7a86f96849e02b303": {
     "model_module": "@jupyter-widgets/controls",
     "model_name": "ProgressStyleModel",
     "state": {
      "_model_module": "@jupyter-widgets/controls",
      "_model_module_version": "1.5.0",
      "_model_name": "ProgressStyleModel",
      "_view_count": null,
      "_view_module": "@jupyter-widgets/base",
      "_view_module_version": "1.2.0",
      "_view_name": "StyleView",
      "bar_color": null,
      "description_width": "initial"
     }
    }
   }
  }
 },
 "nbformat": 4,
 "nbformat_minor": 0
}